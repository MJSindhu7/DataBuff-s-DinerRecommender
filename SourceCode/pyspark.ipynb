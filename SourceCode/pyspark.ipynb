{
 "cells": [
  {
   "cell_type": "code",
   "execution_count": 1,
   "metadata": {},
   "outputs": [
    {
     "data": {
      "text/html": [
       "<div>\n",
       "<style scoped>\n",
       "    .dataframe tbody tr th:only-of-type {\n",
       "        vertical-align: middle;\n",
       "    }\n",
       "\n",
       "    .dataframe tbody tr th {\n",
       "        vertical-align: top;\n",
       "    }\n",
       "\n",
       "    .dataframe thead th {\n",
       "        text-align: right;\n",
       "    }\n",
       "</style>\n",
       "<table border=\"1\" class=\"dataframe\">\n",
       "  <thead>\n",
       "    <tr style=\"text-align: right;\">\n",
       "      <th></th>\n",
       "      <th>address</th>\n",
       "      <th>attributes</th>\n",
       "      <th>business_id</th>\n",
       "      <th>categories</th>\n",
       "      <th>city</th>\n",
       "      <th>hours</th>\n",
       "      <th>is_open</th>\n",
       "      <th>latitude</th>\n",
       "      <th>longitude</th>\n",
       "      <th>name</th>\n",
       "      <th>postal_code</th>\n",
       "      <th>review_count</th>\n",
       "      <th>stars</th>\n",
       "      <th>state</th>\n",
       "    </tr>\n",
       "  </thead>\n",
       "  <tbody>\n",
       "    <tr>\n",
       "      <th>0</th>\n",
       "      <td>2818 E Camino Acequia Drive</td>\n",
       "      <td>{'GoodForKids': 'False'}</td>\n",
       "      <td>1SWheh84yJXfytovILXOAQ</td>\n",
       "      <td>Golf, Active Life</td>\n",
       "      <td>Phoenix</td>\n",
       "      <td>None</td>\n",
       "      <td>0</td>\n",
       "      <td>33.522143</td>\n",
       "      <td>-112.018481</td>\n",
       "      <td>Arizona Biltmore Golf Club</td>\n",
       "      <td>85016</td>\n",
       "      <td>5</td>\n",
       "      <td>3.0</td>\n",
       "      <td>AZ</td>\n",
       "    </tr>\n",
       "    <tr>\n",
       "      <th>1</th>\n",
       "      <td>30 Eglinton Avenue W</td>\n",
       "      <td>{'RestaurantsReservations': 'True', 'GoodForMe...</td>\n",
       "      <td>QXAEGFB4oINsVuTFxEYKFQ</td>\n",
       "      <td>Specialty Food, Restaurants, Dim Sum, Imported...</td>\n",
       "      <td>Mississauga</td>\n",
       "      <td>{'Monday': '9:0-0:0', 'Tuesday': '9:0-0:0', 'W...</td>\n",
       "      <td>1</td>\n",
       "      <td>43.605499</td>\n",
       "      <td>-79.652289</td>\n",
       "      <td>Emerald Chinese Restaurant</td>\n",
       "      <td>L5R 3E7</td>\n",
       "      <td>128</td>\n",
       "      <td>2.5</td>\n",
       "      <td>ON</td>\n",
       "    </tr>\n",
       "    <tr>\n",
       "      <th>2</th>\n",
       "      <td>10110 Johnston Rd, Ste 15</td>\n",
       "      <td>{'GoodForKids': 'True', 'NoiseLevel': 'u'avera...</td>\n",
       "      <td>gnKjwL_1w79qoiV3IC_xQQ</td>\n",
       "      <td>Sushi Bars, Restaurants, Japanese</td>\n",
       "      <td>Charlotte</td>\n",
       "      <td>{'Monday': '17:30-21:30', 'Wednesday': '17:30-...</td>\n",
       "      <td>1</td>\n",
       "      <td>35.092564</td>\n",
       "      <td>-80.859132</td>\n",
       "      <td>Musashi Japanese Restaurant</td>\n",
       "      <td>28210</td>\n",
       "      <td>170</td>\n",
       "      <td>4.0</td>\n",
       "      <td>NC</td>\n",
       "    </tr>\n",
       "    <tr>\n",
       "      <th>3</th>\n",
       "      <td>15655 W Roosevelt St, Ste 237</td>\n",
       "      <td>None</td>\n",
       "      <td>xvX2CttrVhyG2z1dFg_0xw</td>\n",
       "      <td>Insurance, Financial Services</td>\n",
       "      <td>Goodyear</td>\n",
       "      <td>{'Monday': '8:0-17:0', 'Tuesday': '8:0-17:0', ...</td>\n",
       "      <td>1</td>\n",
       "      <td>33.455613</td>\n",
       "      <td>-112.395596</td>\n",
       "      <td>Farmers Insurance - Paul Lorenz</td>\n",
       "      <td>85338</td>\n",
       "      <td>3</td>\n",
       "      <td>5.0</td>\n",
       "      <td>AZ</td>\n",
       "    </tr>\n",
       "    <tr>\n",
       "      <th>4</th>\n",
       "      <td>4209 Stuart Andrew Blvd, Ste F</td>\n",
       "      <td>{'BusinessAcceptsBitcoin': 'False', 'ByAppoint...</td>\n",
       "      <td>HhyxOkGAM07SRYtlQ4wMFQ</td>\n",
       "      <td>Plumbing, Shopping, Local Services, Home Servi...</td>\n",
       "      <td>Charlotte</td>\n",
       "      <td>{'Monday': '7:0-23:0', 'Tuesday': '7:0-23:0', ...</td>\n",
       "      <td>1</td>\n",
       "      <td>35.190012</td>\n",
       "      <td>-80.887223</td>\n",
       "      <td>Queen City Plumbing</td>\n",
       "      <td>28217</td>\n",
       "      <td>4</td>\n",
       "      <td>4.0</td>\n",
       "      <td>NC</td>\n",
       "    </tr>\n",
       "  </tbody>\n",
       "</table>\n",
       "</div>"
      ],
      "text/plain": [
       "                          address  \\\n",
       "0     2818 E Camino Acequia Drive   \n",
       "1            30 Eglinton Avenue W   \n",
       "2       10110 Johnston Rd, Ste 15   \n",
       "3   15655 W Roosevelt St, Ste 237   \n",
       "4  4209 Stuart Andrew Blvd, Ste F   \n",
       "\n",
       "                                          attributes             business_id  \\\n",
       "0                           {'GoodForKids': 'False'}  1SWheh84yJXfytovILXOAQ   \n",
       "1  {'RestaurantsReservations': 'True', 'GoodForMe...  QXAEGFB4oINsVuTFxEYKFQ   \n",
       "2  {'GoodForKids': 'True', 'NoiseLevel': 'u'avera...  gnKjwL_1w79qoiV3IC_xQQ   \n",
       "3                                               None  xvX2CttrVhyG2z1dFg_0xw   \n",
       "4  {'BusinessAcceptsBitcoin': 'False', 'ByAppoint...  HhyxOkGAM07SRYtlQ4wMFQ   \n",
       "\n",
       "                                          categories         city  \\\n",
       "0                                  Golf, Active Life      Phoenix   \n",
       "1  Specialty Food, Restaurants, Dim Sum, Imported...  Mississauga   \n",
       "2                  Sushi Bars, Restaurants, Japanese    Charlotte   \n",
       "3                      Insurance, Financial Services     Goodyear   \n",
       "4  Plumbing, Shopping, Local Services, Home Servi...    Charlotte   \n",
       "\n",
       "                                               hours  is_open   latitude  \\\n",
       "0                                               None        0  33.522143   \n",
       "1  {'Monday': '9:0-0:0', 'Tuesday': '9:0-0:0', 'W...        1  43.605499   \n",
       "2  {'Monday': '17:30-21:30', 'Wednesday': '17:30-...        1  35.092564   \n",
       "3  {'Monday': '8:0-17:0', 'Tuesday': '8:0-17:0', ...        1  33.455613   \n",
       "4  {'Monday': '7:0-23:0', 'Tuesday': '7:0-23:0', ...        1  35.190012   \n",
       "\n",
       "    longitude                             name postal_code  review_count  \\\n",
       "0 -112.018481       Arizona Biltmore Golf Club       85016             5   \n",
       "1  -79.652289       Emerald Chinese Restaurant     L5R 3E7           128   \n",
       "2  -80.859132      Musashi Japanese Restaurant       28210           170   \n",
       "3 -112.395596  Farmers Insurance - Paul Lorenz       85338             3   \n",
       "4  -80.887223              Queen City Plumbing       28217             4   \n",
       "\n",
       "   stars state  \n",
       "0    3.0    AZ  \n",
       "1    2.5    ON  \n",
       "2    4.0    NC  \n",
       "3    5.0    AZ  \n",
       "4    4.0    NC  "
      ]
     },
     "execution_count": 1,
     "metadata": {},
     "output_type": "execute_result"
    }
   ],
   "source": [
    "import pandas as pd\n",
    "\n",
    "\n",
    "review_file = pd.read_json('/Users/sindhuram/Documents/Mine/SJSU/Sem2/256Guzun/TeamProj/YelpDataSet/yelp_dataset/business.json',lines=True)\n",
    "review_file.head()"
   ]
  },
  {
   "cell_type": "code",
   "execution_count": 2,
   "metadata": {},
   "outputs": [],
   "source": [
    "import os\n",
    "from pyspark.sql import SparkSession\n",
    "spark = SparkSession.builder.appName('yelp_data_exploration').getOrCreate()\n",
    "yelp_review = spark.read.json('/Users/sindhuram/Documents/Mine/SJSU/Sem2/256Guzun/TeamProj/YelpDataSet/yelp_dataset/review.json')"
   ]
  },
  {
   "cell_type": "code",
   "execution_count": 3,
   "metadata": {},
   "outputs": [
    {
     "name": "stdout",
     "output_type": "stream",
     "text": [
      "+--------------------+----+-------------------+-----+--------------------+-----+--------------------+------+--------------------+\n",
      "|         business_id|cool|               date|funny|           review_id|stars|                text|useful|             user_id|\n",
      "+--------------------+----+-------------------+-----+--------------------+-----+--------------------+------+--------------------+\n",
      "|ujmEBvifdJM6h6RLv...|   0|2013-05-07 04:34:36|    1|Q1sbwvVQXV2734tPg...|  1.0|Total bill for th...|     6|hG7b0MtEbXx5QzbzE...|\n",
      "|NZnhc2sEQy3RmzKTZ...|   0|2017-01-14 21:30:33|    0|GJXCdrto3ASJOqKeV...|  5.0|I *adore* Travis ...|     0|yXQM5uF2jS6es16SJ...|\n",
      "|WTqjgwHlXbSFevF32...|   0|2016-11-09 20:09:03|    0|2TzJjDVDEuAW6MR5V...|  5.0|I have to say tha...|     3|n6-Gk65cPZL6Uz8qR...|\n",
      "|ikCg8xy5JIg_NGPx-...|   0|2018-01-09 20:56:38|    0|yi0R0Ugj_xUx_Nek0...|  5.0|Went in for a lun...|     0|dacAIZ6fTM6mqwW5u...|\n",
      "|b1b1eb3uo-w561D0Z...|   0|2018-01-30 23:07:38|    0|11a8sVPMUFtaC7_AB...|  1.0|Today was my seco...|     7|ssoyf2_x0EQMed6fg...|\n",
      "|eU_713ec6fTGNO4Be...|   0|2013-01-20 13:25:59|    0|fdiNeiN_hoCxCMy2w...|  4.0|I'll be the first...|     0|w31MKYsNFMrjhWxxA...|\n",
      "|3fw2X5bZYeW9xCz_z...|   5|2016-05-07 01:21:02|    4|G7XHMxG0bx9oBJNEC...|  3.0|Tracy dessert had...|     5|jlu4CztcSxrKx56ba...|\n",
      "|zvO-PJCpNk4fgAVUn...|   1|2010-10-05 19:12:35|    1|8e9HxxLjjqc9ez5ez...|  1.0|This place has go...|     3|d6xvYpyzcfbF_AZ8v...|\n",
      "|b2jN2mm9Wf3RcrZCg...|   0|2015-01-18 14:04:18|    0|qrffudO73zsslZbe8...|  2.0|I was really look...|     1|sG_h0dIzTKWa3Q6fm...|\n",
      "|oxwGyA17NL6c5t1Et...|   1|2012-02-29 21:52:43|    0|RS_GTIT6836bCaPy6...|  3.0|It's a giant Best...|     1|nMeCE5-xsdleyxYuN...|\n",
      "|8mIrX_LrOnAqWsB5J...|   0|2011-11-30 02:11:15|    0|kbtscdyz6lvrtGjD1...|  4.0|Like walking back...|     0|FIk4lQQu1eTe2EpzQ...|\n",
      "|mRUVMJkUGxrByzMQ2...|   0|2017-12-15 23:27:08|    1|-I5umRTkhw15RqpKM...|  1.0|Walked in around ...|     0|-mA3-1mN4JIEkqOtd...|\n",
      "|FxLfqxdYPA6Z85PFK...|   0|2016-05-07 01:36:53|    0|Z7wgXp98wYB57QdRY...|  4.0|Wow. So surprised...|     0|GYNnVehQeXjty0xH7...|\n",
      "|LUN6swQYa4xJKaM_U...|   0|2018-04-27 20:25:26|    0|qlXw1JQ0UodW7qrmV...|  4.0|Michael from Red ...|     0|bAhqAPoWaZYcyYi7b...|\n",
      "|AakkkTuGZA2KBodKi...|   0|2012-07-16 00:37:14|    1|JVcjMhlavKKn3UIt9...|  1.0|I cannot believe ...|     1|TpyOT5E16YASd7EWj...|\n",
      "|YvrylyuWgbP90RgMq...|   0|2017-04-07 21:27:49|    0|svK3nBU7Rk8VfGorl...|  5.0|You can't really ...|     0|NJlxGtouq06hhC7sS...|\n",
      "|NyLYY8q1-H3hfsTwu...|   0|2015-01-03 22:47:34|    0|1wVA2-vQIuW_ClmXk...|  4.0|Great lunch today...|     0|86J5DwcFk4f4In1Vx...|\n",
      "|cHdJXLlKNWixBXpDw...|   1|2015-04-01 16:30:00|    7|6BnQwlxRn7ZuWdzni...|  3.0|I love chinese fo...|     1|JSrP-dUmLlwZiI7Dp...|\n",
      "|6lj2BJ4tJeu7db5as...|   0|2017-05-26 01:23:19|    0|rEITo90tpyKmEfNDp...|  5.0|We've been a huge...|     0|6Fz_nus_OG4gar721...|\n",
      "|y-Iw6dZflNix4BdwI...|   0|2014-06-27 21:19:23|    0|4bUyL7lzoWzDZaJET...|  3.0|Good selection of...|     0|_N7Ndn29bpll_961o...|\n",
      "|qx6WhZ42eDKmBchZD...|   0|2017-03-27 01:14:37|    0|Amo5gZBvCuPc_tZNp...|  5.0|Our family LOVES ...|     1|DzZ7piLBF-WsJxqos...|\n",
      "|Mem13A3C202RzT53n...|   9|2017-05-13 10:41:43|    6|IPw8yWiyqnfBzzWmy...|  5.0|If you are lookin...|     9|5JVY32_bmTBfIGpCC...|\n",
      "|I4Nr-MVc26qWr08-S...|   0|2016-01-17 05:26:22|    0|IByf6mVY0WA838XNS...|  4.0|The food is alway...|     0|3CJUJILq7CLHk_9Or...|\n",
      "|d_L-rfS1vT3JMzgCU...|   0|2016-07-25 03:57:19|    0|S337tATeouQJdoPYy...|  5.0|Pick any meat on ...|     0|2mxBNBeFrgDszqGS5...|\n",
      "|Sfc8Haz2Yri8Mo1L0...|   0|2012-11-06 03:41:43|    0|D_UvaenM25iNd6aeh...|  5.0|Great food, great...|     0|8NwU4TRsD3S6gIfBq...|\n",
      "|FQ1wBQb3aNeRMThSQ...|   0|2013-12-07 02:32:45|    0|I9HBDyzCqLhTYHCAZ...|  5.0|PlumbSmart provid...|     4|vXZeHaLvdfCPATz5B...|\n",
      "|hd5xm20tfSa70-6Uq...|   1|2014-08-10 22:07:35|    1|W1wbNaUnbMy4b9QqY...|  1.0|Unfortunately, I ...|     7|vDr8hBNYigiY70fk1...|\n",
      "|Gyrez6K8f1AyR7dzW...|   1|2013-12-28 22:28:08|    0|qm97yMwREr7BKkexl...|  5.0|their pettuccine ...|     0|TTRVdTXKcq-xn6-1I...|\n",
      "|9nTF596jDvBBia2EX...|   0|2014-04-19 15:03:17|    0|1daGBpea0sleayFee...|  1.0|if i can give thi...|     1|q3GeSW9dWN9r_ocqF...|\n",
      "|SNL64axQhCO6Z7ohc...|   0|2017-02-09 03:43:25|    0|DAC4zWY2ZMa1vxpN9...|  1.0|This review is in...|     0|yxyRt-zoh_A6PMThX...|\n",
      "|dm6sO_Y8JdKTE1ZM9...|   0|2014-12-17 19:04:33|    0|0AsmPiAQduxh5jE_s...|  5.0|ended up here bec...|     0|C_hUvw2z0R-Rv0yZb...|\n",
      "|XTzKRvWciP_BZ9imk...|   0|2014-06-27 21:32:31|    1|bjD0Dqn3k-fi00BXa...|  1.0|I tried this plac...|     5|1fi6x4tnJtlVWaJmo...|\n",
      "|CDpoJiqgM04wqQTZ6...|   0|2015-12-05 02:37:03|    0|CelUWzp-GnJIiiV1m...|  1.0|Love this place d...|     0|tFICmdLtwgFIRcwtl...|\n",
      "|3JxKzWquEbPC3yPIf...|   0|2016-03-07 01:03:08|    0|hUUfzKeDLo930LA9-...|  5.0|Best chinese rest...|     0|uFVAAe0JC81IPmxgT...|\n",
      "|YSUcHqlKMPHHJ_cTr...|   0|2017-12-29 13:55:19|    0|E6B-2U2sGG3xgmnNW...|  1.0|Came here on a Th...|     0|DbccYu3OppWKl21Oa...|\n",
      "|N0apJkxIem2E8irTB...|   0|2015-01-18 15:30:50|    0|wOv7JiO0EGcJ61P2J...|  2.0|Went here last we...|     0|en0xQXlvRk-ZtKlaW...|\n",
      "|sMzNLdhJZGzYirIWt...|   0|2015-06-21 00:59:14|    0|RLbWoIri29BcQ8yjz...|  5.0|This place epitom...|     0|_o740mSNRhMNYuPjS...|\n",
      "|IMLrj2klosTFvPRLv...|   1|2014-10-11 03:50:27|    1|JIC8qNMbcAPAzQMPr...|  4.0|Dinner Was Fantas...|     1|fxrQSMhHlBv6eJVRd...|\n",
      "|5OZlLXjU0FXUbrw8S...|   0|2018-02-01 19:01:16|    0|vBRxlgkpDTXjWiYBp...|  1.0|They keep there a...|     0|wNyiw6GfVfn5Kphqm...|\n",
      "|m7ommfJFalI47Uksy...|   1|2014-09-25 08:15:44|    2|eed44nI0eZ4BGKtKX...|  1.0|Met a friend for ...|     6|tAcB1ZohRtjozsymv...|\n",
      "|m7ommfJFalI47Uksy...|   0|2014-10-27 04:22:34|    0|UoFxqWXBluvS4Q32s...|  4.0|Another solid BBQ...|     0|5rWm6uBPeewOiml4p...|\n",
      "|RbrZJEf8TlnP7RHaK...|   1|2013-11-14 04:55:17|    0|8swMTt9IXycp15r3W...|  3.0|One day after I s...|     2|ITSnuLOu81doC5GGT...|\n",
      "|wJj1EwYcXHdvA9zKq...|   0|2018-10-04 11:20:42|    0|NqYSX93Amv4sd5pPP...|  5.0|I called the numb...|     0|zFYFuufYWQSPj0r5l...|\n",
      "|jScBTQtdAt-8Rshai...|   1|2018-05-28 20:56:05|    0|j3vP8537KHvoXNHQI...|  5.0|Party of 3 ordere...|     1|Z_HE_KKT7N-WddPTz...|\n",
      "|ujHiaprwCQ5ewziu0...|   0|2013-12-07 00:14:06|    0|f0B9-r14-bLudyu5S...|  1.0|We had dinner at ...|     1|SvMGr_Oih7ivtzmnC...|\n",
      "|6sATfFam9_q9uod0I...|   0|2014-02-05 18:07:17|    0|9cW1B-T6M3ER3_rH_...|  5.0|I really enjoyed ...|     1|D-vYE3HILl7Qk1UhY...|\n",
      "|EIL41z-hvVCeYHqfA...|   1|2017-09-20 15:23:35|    0|vzMkIQm34QWBCYaHd...|  5.0|Flat out fantasti...|     1|jAVtSgE5L-Dt6_I5F...|\n",
      "|jzveTy7ogH7cg9axZ...|   0|2015-04-01 13:31:35|    0|0NRNA8qIq9nKw5Fcw...|  4.0|Very nice eating ...|     0|54kpqrxF9DEPpwa51...|\n",
      "|OVTZNSkSfbl3gVB9X...|   0|2010-01-08 04:28:23|    0|u1jQX0KfnG3AHty4i...|  4.0|notes: 1 visit, b...|     0|8vIK6ndl8yzIdmSDn...|\n",
      "|9MbGG8PxrlpBWVm3Q...|   0|2016-09-18 15:19:33|    0|xQksr0gAyssKdnP2o...|  1.0|I am years out fr...|     3|vVhE4lGdsGK5rQgBf...|\n",
      "|FBSWwaE6gR7KAOyG1...|   0|2015-01-03 21:11:31|    0|-QxhbVQrcnVWGiua9...|  5.0|Such a unique pla...|     0|jsOz-dWToun2VsFcF...|\n",
      "|X5uxdU9GHoUAqo2wm...|   1|2015-11-06 00:02:50|    0|bvEdkl-weZGMLLRF9...|  5.0|Best Wonton soup ...|     0|0nTJWagRU8_-KS1x7...|\n",
      "|rBo_suDMdGmFQ0TtY...|   0|2014-07-13 16:17:18|    0|Saae_VVf_v0fyNmB6...|  1.0|I've never experi...|     4|PttoI2Meg76KVB8Jx...|\n",
      "|eoyvbnRYQe-z85e8R...|   0|2013-08-15 15:00:14|    0|7Jy730ib54YKYgZRv...|  4.0|We had dinner her...|     1|ROsjOYL8Jwv-q78mN...|\n",
      "|5FIOXmUE3qMviX9Ga...|   0|2017-10-02 02:28:34|    0|SWiEJZUJM6rUDJFwb...|  5.0|Absolutely love t...|     0|SAM29wXWmT0-aRMXt...|\n",
      "|hcFSc0OHgZJybnjQB...|   1|2013-05-07 03:29:21|    0|vAckaF8n0KKJeqHOn...|  4.0|Here's why I don'...|     1|JjDR060LJQcNNVWKu...|\n",
      "|OVTZNSkSfbl3gVB9X...|   0|2014-09-09 19:15:26|    0|VqZMgUf4wQMTeCWg2...|  3.0|We went here Satu...|     0|POr1NTWV45OaNCOLf...|\n",
      "|WsdmzI2giWHcRN2pl...|   4|2013-05-28 21:06:57|   14|UIvFkXLBxWxM6aekv...|  2.0|Took my kids here...|     5|0FMte0z-repSVWSJ_...|\n",
      "|MjeeiLhVq3-BBz-A9...|   0|2014-01-17 02:08:15|    1|4pfD5yB-S2PduTIng...|  5.0|There is a reason...|     0|2H2mj0pJtzAqWL2zJ...|\n",
      "|dZVMp70AuSa4dQPvx...|   1|2011-09-25 18:10:04|    0|IRwIFWgjJiMSBBuce...|  3.0|In need of a burg...|     2|PFNZVn73upq3oZDG2...|\n",
      "|oSDyex506Y8H7Yegc...|   0|2016-06-22 21:45:13|    0|h2lt2Lu8a9jUtYEbB...|  2.0|Sadly this place ...|     1|0T2qMGDRJJSrhxpy4...|\n",
      "|FBSWwaE6gR7KAOyG1...|   0|2016-03-07 00:20:06|    0|HYBzY7zN_YBHtQu6q...|  5.0|Easily entering m...|     0|OnYEKooAtI2zTRqBL...|\n",
      "|SU56w479vUfFHsvmv...|   6|2016-07-25 03:55:20|    5|E4LqIZ7DJd_R4ZHSN...|  4.0|So good! They did...|     7|DoRCeCcJbrsM2BiAK...|\n",
      "|dInxwF8kXVdfLEGTI...|   0|2017-04-30 04:13:18|    1|CvJy7CdHJqsZNq22f...|  2.0|Employees were to...|     0|DAssyKNnYBenf0s1u...|\n",
      "|ZCsvwa_dsqNB8d8tY...|   0|2012-04-28 13:35:52|    0|ASZha3MiQJghtt3n5...|  4.0|This random hole ...|     0|Fyn9aNWs0Qcz6T-uI...|\n",
      "|PZMpjUQ9_JVCf4Htu...|   0|2017-01-27 19:15:36|    0|if6UbmA8Z254rlIiK...|  1.0|((( LADIES BEWARE...|     1|3owWXgw7_Czt5o35d...|\n",
      "|FYkm4c2CujTSPpqSM...|   0|2015-05-12 15:46:57|    0|17KSQjHdowZMngVpt...|  5.0|Great tanning sal...|     0|wvBp1Ar-izuKnI9uB...|\n",
      "|aNe8ofTYrealxqv7V...|   0|2015-07-16 07:31:28|    2|XAm4_-lUxzF_Y449c...|  1.0|Th service here i...|     0|ABUt9wCHRsSpa8i7r...|\n",
      "|CZKkoMlqu0N0zCFK-...|   0|2013-02-21 21:25:07|    0|dcKpWjwqKl0ImVKEr...|  4.0|Great cocktails a...|     1|X-5IICsYwqImns4Wx...|\n",
      "|ZNB91myFoOYgyXoG5...|   0|2014-12-17 19:34:47|    0|36xxeOr4m4UlRf9FM...|  1.0|I took my wife ou...|     1|liUNZm0tOJJ-d-pFC...|\n",
      "|KjicU7uxRt2KDEnO5...|   0|2017-06-27 23:17:40|    0|4aX4qoetCm45i4Phu...|  1.0|This company trie...|     0|gt9w3MAaBemQsUCS_...|\n",
      "|anzCdD5eIEHwydTpX...|   1|2015-01-03 20:45:05|    0|4PKiLkFTff9HK44Qk...|  4.0|Heard about this ...|     0|vDlrf84X8yu-CZ-8i...|\n",
      "|z9aXGRH8xtqpNDFE5...|   0|2015-06-21 00:56:28|    0|QSe9EqmiImbguDVIr...|  4.0|received a  maile...|     0|II8eB5mYk200GW-m-...|\n",
      "|74C1z6cqEdvJVgETT...|   0|2014-12-17 17:46:03|    0|x4FUjCh_QOOL4LEQQ...|  4.0|Met an old close ...|     0|JggB3gMgP1j5aKHmC...|\n",
      "|smIh1HppyfXphiGMJ...|   0|2018-04-27 18:32:25|    0|ReFXQwEtx_qyjC-G8...|  5.0|My company hosted...|     0|Hxs41092f4HDP-q9_...|\n",
      "|1HD5iUUfVJDbfEBIn...|  11|2017-03-15 02:02:13|    8|qdQIIf6xuyubxEG05...|  5.0|Yes... the Boba T...|    11|XPZVfP7DQCSL3Nb9t...|\n",
      "|CGUK3cd2gxp2q3KPY...|   0|2018-04-15 11:34:34|    0|LrO2MkIWIjAoOeS5W...|  5.0|Yum!! Had the kal...|     0|hzny0aF2jcUaY8rXN...|\n",
      "|nDaW2hhQV5KYiGH7H...|   1|2016-12-04 02:34:48|    0|9X9G_UAQN5W3mmspI...|  3.0|I stumbled upon t...|     1|hTZb1INhnCG8URaFy...|\n",
      "|6xgcHeLad-VaoTIQe...|   1|2006-04-14 04:37:51|    0|VeJppsRLTWRKh4Pkm...|  4.0|ooooooh yummy.  i...|     0|eJEcCIzJ5bqc0QpRG...|\n",
      "|vhIJ91MDgUuk4Cr9K...|   0|2015-07-16 05:40:33|    0|p9U8-Bj9tFBqHa-wg...|  1.0|Dreadful Service\n",
      "...|     2|1BcNXW9_Y16TIofPV...|\n",
      "|8KmqWgL0UEdxJFwTZ...|   0|2012-12-04 03:30:31|    0|dS5ERxmIP-CQ_ZV_q...|  5.0|These burgers are...|     0|SYRRQJoa5gQ8Duev4...|\n",
      "|E9HN0nA8eRsIBZYkL...|   0|2012-11-06 02:46:40|    0|XsBgj268rbYJ5ljKj...|  4.0|I got stuck in My...|     0|THirRdo5CwitTPyqV...|\n",
      "|5qG4UHurI1yEozwn2...|   3|2017-12-02 18:35:23|    1|m2H0m3pDUNmkXZP4K...|  2.0|#1 it should be a...|     5|fVK8D0rE9ez1fsQNW...|\n",
      "|yNPh5SO-7wr8HPpVC...|   0|2017-04-30 05:32:05|    0|JYdhCDyR6lYfN2qnS...|  5.0|First off food is...|     0|6kEFHccntnYMF_7cd...|\n",
      "|sk0stgY4NDJYOX1Mb...|   0|2018-09-25 03:58:48|    0|SneRds-D0MCMWbIit...|  1.0|At least the Pink...|     0|WThN-4czFfMs1vYhv...|\n",
      "|HhVmDybpU7L50Kb5A...|   0|2015-03-06 07:24:15|    0|29S2A-Q8Vt4a-Z6St...|  4.0|Wonderful experie...|     0|J6YedGZVdhagKKaIq...|\n",
      "|5n2dA_QqO4c_7pSK0...|   1|2015-07-28 09:33:12|    1|DmlGGWLHPAQl2v9qM...|  1.0|I was told so man...|     3|8fpiTkK4MO5jJIXHF...|\n",
      "|jg72eKbD8rlv0i1DR...|   0|2016-10-13 20:59:22|    0|VukV341GHtm9kcvoK...|  1.0|Came here for the...|     0|3Ft0HhzBP-iknnHt-...|\n",
      "|EgwGTDZ705TwudPJw...|   0|2011-01-09 00:07:16|    0|W6VRRz7mVGZLsidyH...|  5.0|This place is qui...|     2|To4ATBBNlnC5gzj0d...|\n",
      "|R_atwP6fr34SoXcOu...|   0|2017-03-27 01:42:21|    0|ER_W7XbsHuxs24UcL...|  5.0|Dr.K. & Dr.B. tog...|     0|lOV7GDN5azjfW81xK...|\n",
      "|GdCRQU3VCh_x8fY84...|   3|2011-02-13 17:46:55|    1|yMXmJzpEah6XfS_SS...|  5.0|Man, I love Toron...|     1|MQq_1AlcDWsyNs7Ot...|\n",
      "|PFmB_iraAbTN9XMka...|   0|2017-06-27 22:49:09|    0|m7eosmcK66RU_61UH...|  5.0|Today was my firs...|     1|0v0aVNJEixurV1Ib0...|\n",
      "|1Kq_blM7ROYESz6i6...|   0|2013-05-07 03:40:19|    0|NfK6qaAr5QgbuMG0X...|  4.0|I've taken my kid...|     1|-bFRtLmkx7aXKf0oq...|\n",
      "|Sxe7h922Dqv9HzfTH...|   0|2017-05-13 06:29:26|    0|xjHy2n06GoOGeYkAB...|  1.0|One of the crappi...|     0|KS__VsKYJbz-40Hdy...|\n",
      "|_iUlt5rm-15QoLw0M...|   1|2011-04-22 01:38:58|    1|LaSg1wlkosR6aSiuz...|  3.0|Beer, beer, and m...|     1|9QoXklTk-Fl1Q1Cy8...|\n",
      "|sT6KKMATRTiNSJ896...|   0|2014-09-09 18:54:45|    0|ngN7BwOpWUPA5yhmj...|  4.0|Love the crust on...|     0|aXhMt_8ZDmfpr2QZ3...|\n",
      "|Gyrez6K8f1AyR7dzW...|   1|2017-01-02 03:48:03|    1|l7KB334CXThAcmZPO...|  2.0|Normally, I give ...|     3|N6zhXHPIrCXommDEg...|\n",
      "|xS5HGqgk0KY2jFWU-...|   0|2018-09-25 03:54:06|    0|RKGH2ZQHyBNgJwQ84...|  4.0|I'm not that fami...|     0|pHKISjytTmP0LrP95...|\n",
      "|XXW_OFaYQkkGOGniu...|   0|2018-02-23 23:07:48|    0|kQAHUQ89fIZVCf1cF...|  4.0|\"Good morning, co...|     0|dL1qnksdX2LW4DbNI...|\n",
      "|HhVmDybpU7L50Kb5A...|   0|2016-01-30 01:08:03|    0|jdDxglqBqPJPYQO5Q...|  5.0|Hands down best B...|     0|2Klw_6aXH_aVcOXPi...|\n",
      "+--------------------+----+-------------------+-----+--------------------+-----+--------------------+------+--------------------+\n",
      "only showing top 100 rows\n",
      "\n"
     ]
    }
   ],
   "source": [
    "yelp_review.show(100)"
   ]
  },
  {
   "cell_type": "code",
   "execution_count": 4,
   "metadata": {},
   "outputs": [],
   "source": [
    "yelp_users = spark.read.json('/Users/sindhuram/Documents/Mine/SJSU/Sem2/256Guzun/TeamProj/YelpDataSet/yelp_dataset/user.json')\n",
    "yelp_business = spark.read.json('/Users/sindhuram/Documents/Mine/SJSU/Sem2/256Guzun/TeamProj/YelpDataSet/yelp_dataset/business.json')"
   ]
  },
  {
   "cell_type": "code",
   "execution_count": 5,
   "metadata": {},
   "outputs": [
    {
     "name": "stdout",
     "output_type": "stream",
     "text": [
      "root\n",
      " |-- average_stars: double (nullable = true)\n",
      " |-- compliment_cool: long (nullable = true)\n",
      " |-- compliment_cute: long (nullable = true)\n",
      " |-- compliment_funny: long (nullable = true)\n",
      " |-- compliment_hot: long (nullable = true)\n",
      " |-- compliment_list: long (nullable = true)\n",
      " |-- compliment_more: long (nullable = true)\n",
      " |-- compliment_note: long (nullable = true)\n",
      " |-- compliment_photos: long (nullable = true)\n",
      " |-- compliment_plain: long (nullable = true)\n",
      " |-- compliment_profile: long (nullable = true)\n",
      " |-- compliment_writer: long (nullable = true)\n",
      " |-- cool: long (nullable = true)\n",
      " |-- elite: string (nullable = true)\n",
      " |-- fans: long (nullable = true)\n",
      " |-- friends: string (nullable = true)\n",
      " |-- funny: long (nullable = true)\n",
      " |-- name: string (nullable = true)\n",
      " |-- review_count: long (nullable = true)\n",
      " |-- useful: long (nullable = true)\n",
      " |-- user_id: string (nullable = true)\n",
      " |-- yelping_since: string (nullable = true)\n",
      "\n"
     ]
    }
   ],
   "source": [
    "yelp_users.printSchema()"
   ]
  },
  {
   "cell_type": "code",
   "execution_count": 6,
   "metadata": {},
   "outputs": [
    {
     "name": "stdout",
     "output_type": "stream",
     "text": [
      "root\n",
      " |-- business_id: string (nullable = true)\n",
      " |-- cool: long (nullable = true)\n",
      " |-- date: string (nullable = true)\n",
      " |-- funny: long (nullable = true)\n",
      " |-- review_id: string (nullable = true)\n",
      " |-- stars: double (nullable = true)\n",
      " |-- text: string (nullable = true)\n",
      " |-- useful: long (nullable = true)\n",
      " |-- user_id: string (nullable = true)\n",
      "\n"
     ]
    }
   ],
   "source": [
    "yelp_review.printSchema()"
   ]
  },
  {
   "cell_type": "code",
   "execution_count": 7,
   "metadata": {},
   "outputs": [
    {
     "name": "stdout",
     "output_type": "stream",
     "text": [
      "root\n",
      " |-- address: string (nullable = true)\n",
      " |-- attributes: struct (nullable = true)\n",
      " |    |-- AcceptsInsurance: string (nullable = true)\n",
      " |    |-- AgesAllowed: string (nullable = true)\n",
      " |    |-- Alcohol: string (nullable = true)\n",
      " |    |-- Ambience: string (nullable = true)\n",
      " |    |-- BYOB: string (nullable = true)\n",
      " |    |-- BYOBCorkage: string (nullable = true)\n",
      " |    |-- BestNights: string (nullable = true)\n",
      " |    |-- BikeParking: string (nullable = true)\n",
      " |    |-- BusinessAcceptsBitcoin: string (nullable = true)\n",
      " |    |-- BusinessAcceptsCreditCards: string (nullable = true)\n",
      " |    |-- BusinessParking: string (nullable = true)\n",
      " |    |-- ByAppointmentOnly: string (nullable = true)\n",
      " |    |-- Caters: string (nullable = true)\n",
      " |    |-- CoatCheck: string (nullable = true)\n",
      " |    |-- Corkage: string (nullable = true)\n",
      " |    |-- DietaryRestrictions: string (nullable = true)\n",
      " |    |-- DogsAllowed: string (nullable = true)\n",
      " |    |-- DriveThru: string (nullable = true)\n",
      " |    |-- GoodForDancing: string (nullable = true)\n",
      " |    |-- GoodForKids: string (nullable = true)\n",
      " |    |-- GoodForMeal: string (nullable = true)\n",
      " |    |-- HairSpecializesIn: string (nullable = true)\n",
      " |    |-- HappyHour: string (nullable = true)\n",
      " |    |-- HasTV: string (nullable = true)\n",
      " |    |-- Music: string (nullable = true)\n",
      " |    |-- NoiseLevel: string (nullable = true)\n",
      " |    |-- Open24Hours: string (nullable = true)\n",
      " |    |-- OutdoorSeating: string (nullable = true)\n",
      " |    |-- RestaurantsAttire: string (nullable = true)\n",
      " |    |-- RestaurantsCounterService: string (nullable = true)\n",
      " |    |-- RestaurantsDelivery: string (nullable = true)\n",
      " |    |-- RestaurantsGoodForGroups: string (nullable = true)\n",
      " |    |-- RestaurantsPriceRange2: string (nullable = true)\n",
      " |    |-- RestaurantsReservations: string (nullable = true)\n",
      " |    |-- RestaurantsTableService: string (nullable = true)\n",
      " |    |-- RestaurantsTakeOut: string (nullable = true)\n",
      " |    |-- Smoking: string (nullable = true)\n",
      " |    |-- WheelchairAccessible: string (nullable = true)\n",
      " |    |-- WiFi: string (nullable = true)\n",
      " |-- business_id: string (nullable = true)\n",
      " |-- categories: string (nullable = true)\n",
      " |-- city: string (nullable = true)\n",
      " |-- hours: struct (nullable = true)\n",
      " |    |-- Friday: string (nullable = true)\n",
      " |    |-- Monday: string (nullable = true)\n",
      " |    |-- Saturday: string (nullable = true)\n",
      " |    |-- Sunday: string (nullable = true)\n",
      " |    |-- Thursday: string (nullable = true)\n",
      " |    |-- Tuesday: string (nullable = true)\n",
      " |    |-- Wednesday: string (nullable = true)\n",
      " |-- is_open: long (nullable = true)\n",
      " |-- latitude: double (nullable = true)\n",
      " |-- longitude: double (nullable = true)\n",
      " |-- name: string (nullable = true)\n",
      " |-- postal_code: string (nullable = true)\n",
      " |-- review_count: long (nullable = true)\n",
      " |-- stars: double (nullable = true)\n",
      " |-- state: string (nullable = true)\n",
      "\n"
     ]
    }
   ],
   "source": [
    "yelp_business.printSchema()"
   ]
  },
  {
   "cell_type": "code",
   "execution_count": 8,
   "metadata": {},
   "outputs": [
    {
     "name": "stdout",
     "output_type": "stream",
     "text": [
      "root\n",
      " |-- business_id: string (nullable = true)\n",
      " |-- date: string (nullable = true)\n",
      " |-- funny: long (nullable = true)\n",
      " |-- review_id: string (nullable = true)\n",
      " |-- stars: double (nullable = true)\n",
      " |-- text: string (nullable = true)\n",
      " |-- useful: long (nullable = true)\n",
      " |-- user_id: string (nullable = true)\n",
      "\n",
      "root\n",
      " |-- business_id: string (nullable = true)\n",
      " |-- review_id: string (nullable = true)\n",
      " |-- stars: double (nullable = true)\n",
      " |-- user_id: string (nullable = true)\n",
      "\n"
     ]
    }
   ],
   "source": [
    "yelp_review = yelp_review.drop('cool')\n",
    "yelp_review.printSchema()\n",
    "yelp_review_min = yelp_review.drop('funny')\n",
    "yelp_review_min = yelp_review_min.drop('text')\n",
    "yelp_review_min = yelp_review_min.drop('useful')\n",
    "yelp_review_min = yelp_review_min.drop('date')\n",
    "yelp_review_min.printSchema()"
   ]
  },
  {
   "cell_type": "code",
   "execution_count": 9,
   "metadata": {},
   "outputs": [],
   "source": [
    "yelp_review_join =yelp_review_min.join(yelp_business,  yelp_review_min.business_id ==yelp_business.business_id, 'outer').select(yelp_review_min.business_id,yelp_review_min.review_id,yelp_review_min.stars, yelp_review_min.user_id, yelp_business.city,yelp_business.categories)"
   ]
  },
  {
   "cell_type": "code",
   "execution_count": 10,
   "metadata": {},
   "outputs": [
    {
     "name": "stdout",
     "output_type": "stream",
     "text": [
      "root\n",
      " |-- business_id: string (nullable = true)\n",
      " |-- review_id: string (nullable = true)\n",
      " |-- stars: double (nullable = true)\n",
      " |-- user_id: string (nullable = true)\n",
      " |-- city: string (nullable = true)\n",
      " |-- categories: string (nullable = true)\n",
      "\n"
     ]
    }
   ],
   "source": [
    "yelp_review_join.printSchema()"
   ]
  },
  {
   "cell_type": "code",
   "execution_count": 11,
   "metadata": {},
   "outputs": [
    {
     "name": "stdout",
     "output_type": "stream",
     "text": [
      "+--------------------+--------------------+-----+--------------------+---------+--------------------+\n",
      "|         business_id|           review_id|stars|             user_id|     city|          categories|\n",
      "+--------------------+--------------------+-----+--------------------+---------+--------------------+\n",
      "|--9e1ONYQuAa-CB_R...|eCJObv4SZupXH5TKW...|  2.0|SFftbQSwHZ24ahhfj...|Las Vegas|Cajun/Creole, Sea...|\n",
      "|--9e1ONYQuAa-CB_R...|wZS-PPflEIXH7DplZ...|  5.0|OkKNJpVWPZJRmPXbR...|Las Vegas|Cajun/Creole, Sea...|\n",
      "|--9e1ONYQuAa-CB_R...|tTD3wegtsiHOjVTLg...|  5.0|joe4i-lcCFd2wViA2...|Las Vegas|Cajun/Creole, Sea...|\n",
      "|--9e1ONYQuAa-CB_R...|7H98TWCrkyRxo8DMf...|  5.0|n_HMBasYWRQxVjts_...|Las Vegas|Cajun/Creole, Sea...|\n",
      "|--9e1ONYQuAa-CB_R...|jTlP9izKAXbF9T91p...|  3.0|tXhscxwFTd-ayLTdP...|Las Vegas|Cajun/Creole, Sea...|\n",
      "|--9e1ONYQuAa-CB_R...|cKMqmXYq7643CF8ra...|  5.0|azcT4FIP0FCrCwbMQ...|Las Vegas|Cajun/Creole, Sea...|\n",
      "|--9e1ONYQuAa-CB_R...|WYNusZjgf6BsISk82...|  5.0|y4O_c6UUAAtPb3Uk-...|Las Vegas|Cajun/Creole, Sea...|\n",
      "|--9e1ONYQuAa-CB_R...|lgpSS6UsKYIvnQaw8...|  5.0|G5LXEaxhQMF_BVjNH...|Las Vegas|Cajun/Creole, Sea...|\n",
      "|--9e1ONYQuAa-CB_R...|VLa7nP_AuELhdZZQc...|  5.0|KdRUbbdZ4GxjV4h2B...|Las Vegas|Cajun/Creole, Sea...|\n",
      "|--9e1ONYQuAa-CB_R...|4Ph6dJlfjDtH3LBGR...|  5.0|WUAidypEtNEpL8kJ3...|Las Vegas|Cajun/Creole, Sea...|\n",
      "+--------------------+--------------------+-----+--------------------+---------+--------------------+\n",
      "only showing top 10 rows\n",
      "\n"
     ]
    }
   ],
   "source": [
    "yelp_review_join.show(10)"
   ]
  },
  {
   "cell_type": "code",
   "execution_count": 12,
   "metadata": {},
   "outputs": [],
   "source": [
    "from pyspark.sql.functions import arrays_zip, col\n",
    "from pyspark.sql.functions import col, split\n",
    "yelp_business_new = yelp_business.withColumn(\"categories\", split(col(\"categories\"), \",\").cast(\"array<string>\"))\n",
    "#yelp_business = yelp_business.withColumn(\"city\", split(col(\"city\"), \",\").cast(\"array<string>\"))\n"
   ]
  },
  {
   "cell_type": "code",
   "execution_count": 13,
   "metadata": {
    "scrolled": true
   },
   "outputs": [
    {
     "name": "stdout",
     "output_type": "stream",
     "text": [
      "+--------------------+--------------------+--------------------+--------------------+-------------+--------------------+-------+-------------+---------------+--------------------+-----------+------------+-----+-----+\n",
      "|             address|          attributes|         business_id|          categories|         city|               hours|is_open|     latitude|      longitude|                name|postal_code|review_count|stars|state|\n",
      "+--------------------+--------------------+--------------------+--------------------+-------------+--------------------+-------+-------------+---------------+--------------------+-----------+------------+-----+-----+\n",
      "|2818 E Camino Ace...|[,,,,,,,,,,,,,,,,...|1SWheh84yJXfytovI...|[Golf,  Active Life]|      Phoenix|                null|      0|   33.5221425|   -112.0184807|Arizona Biltmore ...|      85016|           5|  3.0|   AZ|\n",
      "|30 Eglinton Avenue W|[,, u'full_bar', ...|QXAEGFB4oINsVuTFx...|[Specialty Food, ...|  Mississauga|[9:0-1:0, 9:0-0:0...|      1|43.6054989743|  -79.652288909|Emerald Chinese R...|    L5R 3E7|         128|  2.5|   ON|\n",
      "|10110 Johnston Rd...|[,, u'beer_and_wi...|gnKjwL_1w79qoiV3I...|[Sushi Bars,  Res...|    Charlotte|[17:30-22:0, 17:3...|      1|    35.092564|     -80.859132|Musashi Japanese ...|      28210|         170|  4.0|   NC|\n",
      "|15655 W Roosevelt...|                null|xvX2CttrVhyG2z1dF...|[Insurance,  Fina...|     Goodyear|[8:0-17:0, 8:0-17...|      1|33.4556129678|-112.3955963552|Farmers Insurance...|      85338|           3|  5.0|   AZ|\n",
      "|4209 Stuart Andre...|[,,,,,,,, False, ...|HhyxOkGAM07SRYtlQ...|[Plumbing,  Shopp...|    Charlotte|[7:0-23:0, 7:0-23...|      1|   35.1900119|    -80.8872232| Queen City Plumbing|      28217|           4|  4.0|   NC|\n",
      "|Credit Valley Tow...|[,,,,,,,,,, {'gar...|68dUKd8_8liJ7in4a...|[Shipping Centers...|  Mississauga|[9:0-19:0, 9:0-19...|      1|   43.5994753|    -79.7115835|       The UPS Store|    L5V 0B1|           3|  2.5|   ON|\n",
      "|20 Douglas Woods ...|[,,,,,,,,,, {'gar...|5JucpCfHZltJh5r1J...|[Beauty & Spas,  ...|      Calgary|                null|      1|   50.9436456|   -114.0018283|    Edgeworxx Studio|    T2Z 1K4|           7|  3.5|   AB|\n",
      "|4545 E Tropicana ...|[,,,,,,, False,, ...|gbQN7vr_caG_A1ugS...|[Hair Salons,  Ha...|    Las Vegas|[10:0-19:0, 10:0-...|      1|    36.099872|    -115.074574|           Supercuts|      89121|           3|  3.5|   NV|\n",
      "|5940 W Union Hill...|[,,,,,,, False,, ...|Y6iyemLX_oylRpnr3...|[Nail Salons,  Be...|     Glendale|[10:0-17:0,, 10:0...|      0|   33.6548146|   -112.1885676|Vita Bella Fine D...|      85308|           8|  5.0|   AZ|\n",
      "|     21689 Lorain Rd|[False,,,,,,,,, T...|4GBVPIYRvzGh4K4Tk...|[Beauty & Spas,  ...|Fairview Park|[9:0-19:0,, 9:0-1...|      1|41.4408252653| -81.8540965503| Options Salon & Spa|      44126|           8|  4.5|   OH|\n",
      "+--------------------+--------------------+--------------------+--------------------+-------------+--------------------+-------+-------------+---------------+--------------------+-----------+------------+-----+-----+\n",
      "only showing top 10 rows\n",
      "\n"
     ]
    }
   ],
   "source": [
    "yelp_business_new.show(10)"
   ]
  },
  {
   "cell_type": "code",
   "execution_count": 14,
   "metadata": {},
   "outputs": [],
   "source": [
    "from pyspark.sql.functions import explode\n",
    "yelp_business_store = (yelp_business_new \n",
    "    .withColumn(\"categories\", explode(\"categories\"))\n",
    "    .select( col(\"categories\"), col(\"city\")))"
   ]
  },
  {
   "cell_type": "code",
   "execution_count": 15,
   "metadata": {},
   "outputs": [
    {
     "data": {
      "text/plain": [
       "DataFrame[categories: string, city: string]"
      ]
     },
     "execution_count": 15,
     "metadata": {},
     "output_type": "execute_result"
    }
   ],
   "source": [
    "yelp_business_store"
   ]
  },
  {
   "cell_type": "code",
   "execution_count": 16,
   "metadata": {},
   "outputs": [],
   "source": [
    "def func1(line):\n",
    "    return ((line.categories,line.city),1)\n",
    "yelp_business_map = yelp_business_store.rdd.map(func1)"
   ]
  },
  {
   "cell_type": "code",
   "execution_count": 17,
   "metadata": {},
   "outputs": [],
   "source": [
    "from operator import add\n",
    "yelp_business_map_final = yelp_business_map.reduceByKey(add)\n",
    "yelp_business_map_sorted = yelp_business_map_final.sortBy(lambda x: x[1],ascending=False)"
   ]
  },
  {
   "cell_type": "code",
   "execution_count": 18,
   "metadata": {},
   "outputs": [
    {
     "data": {
      "text/plain": [
       "[((' Restaurants', 'Toronto'), 5455),\n",
       " ((' Restaurants', 'Las Vegas'), 4610),\n",
       " ((' Shopping', 'Las Vegas'), 3905),\n",
       " ((' Food', 'Toronto'), 2989),\n",
       " ((' Restaurants', 'Phoenix'), 2815),\n",
       " ((' Home Services', 'Las Vegas'), 2781),\n",
       " ((' Food', 'Las Vegas'), 2664),\n",
       " ((' Restaurants', 'Montréal'), 2542),\n",
       " (('Restaurants', 'Toronto'), 2509),\n",
       " ((' Shopping', 'Phoenix'), 2416),\n",
       " ((' Beauty & Spas', 'Las Vegas'), 2334),\n",
       " ((' Health & Medical', 'Las Vegas'), 2328),\n",
       " ((' Shopping', 'Toronto'), 2315),\n",
       " ((' Home Services', 'Phoenix'), 2302),\n",
       " ((' Restaurants', 'Calgary'), 2049),\n",
       " ((' Restaurants', 'Charlotte'), 1971),\n",
       " ((' Local Services', 'Las Vegas'), 1891),\n",
       " (('Restaurants', 'Las Vegas'), 1840),\n",
       " ((' Restaurants', 'Pittsburgh'), 1707),\n",
       " ((' Food', 'Phoenix'), 1672),\n",
       " ((' Nightlife', 'Las Vegas'), 1602),\n",
       " ((' Health & Medical', 'Phoenix'), 1577),\n",
       " ((' Event Planning & Services', 'Las Vegas'), 1497),\n",
       " ((' Automotive', 'Las Vegas'), 1447),\n",
       " ((' Local Services', 'Phoenix'), 1444),\n",
       " ((' Nightlife', 'Toronto'), 1389),\n",
       " ((' Beauty & Spas', 'Toronto'), 1331),\n",
       " ((' Professional Services', 'Las Vegas'), 1260),\n",
       " ((' Bars', 'Las Vegas'), 1255),\n",
       " (('Restaurants', 'Montréal'), 1242),\n",
       " ((' Bars', 'Toronto'), 1236),\n",
       " ((' Shopping', 'Scottsdale'), 1225),\n",
       " (('Shopping', 'Las Vegas'), 1209),\n",
       " ((' Shopping', 'Charlotte'), 1198),\n",
       " ((' Arts & Entertainment', 'Las Vegas'), 1197),\n",
       " (('Food', 'Toronto'), 1193),\n",
       " (('Restaurants', 'Phoenix'), 1184),\n",
       " ((' Fashion', 'Las Vegas'), 1175),\n",
       " ((' Restaurants', 'Scottsdale'), 1173),\n",
       " ((' Automotive', 'Phoenix'), 1164),\n",
       " ((' Health & Medical', 'Scottsdale'), 1138),\n",
       " ((' Active Life', 'Las Vegas'), 1121),\n",
       " ((' Beauty & Spas', 'Phoenix'), 1115),\n",
       " ((' Food', 'Montréal'), 1100),\n",
       " ((' Shopping', 'Calgary'), 1095),\n",
       " ((' Food', 'Charlotte'), 1095),\n",
       " ((' Food', 'Calgary'), 1068),\n",
       " ((' Restaurants', 'Cleveland'), 1056),\n",
       " ((' Beauty & Spas', 'Scottsdale'), 1027),\n",
       " (('Home Services', 'Las Vegas'), 995),\n",
       " ((' Coffee & Tea', 'Toronto'), 980),\n",
       " ((' Real Estate', 'Las Vegas'), 973),\n",
       " ((' Restaurants', 'Mississauga'), 956),\n",
       " ((' Food', 'Pittsburgh'), 950),\n",
       " ((' Doctors', 'Las Vegas'), 944),\n",
       " ((' Home Services', 'Scottsdale'), 931),\n",
       " (('Food', 'Las Vegas'), 930),\n",
       " (('Beauty & Spas', 'Las Vegas'), 899),\n",
       " ((' Shopping', 'Pittsburgh'), 873),\n",
       " (('Restaurants', 'Calgary'), 863),\n",
       " (('Shopping', 'Toronto'), 858),\n",
       " (('Health & Medical', 'Las Vegas'), 846),\n",
       " ((' Hotels & Travel', 'Las Vegas'), 843),\n",
       " (('Home Services', 'Phoenix'), 843),\n",
       " ((' Shopping', 'Mesa'), 822),\n",
       " ((' Hair Salons', 'Las Vegas'), 821),\n",
       " ((' Restaurants', 'Madison'), 810),\n",
       " ((' Home Services', 'Mesa'), 805),\n",
       " ((' Health & Medical', 'Toronto'), 796),\n",
       " ((' Restaurants', 'Mesa'), 796),\n",
       " ((' Event Planning & Services', 'Phoenix'), 789),\n",
       " ((' Professional Services', 'Phoenix'), 779),\n",
       " (('Shopping', 'Phoenix'), 747),\n",
       " ((' Home Services', 'Charlotte'), 747),\n",
       " (('Restaurants', 'Pittsburgh'), 746),\n",
       " (('Restaurants', 'Charlotte'), 739),\n",
       " ((' Restaurants', 'Tempe'), 731),\n",
       " ((' Beauty & Spas', 'Charlotte'), 729),\n",
       " ((' Event Planning & Services', 'Toronto'), 723),\n",
       " ((' American (Traditional)', 'Las Vegas'), 710),\n",
       " ((' Fast Food', 'Las Vegas'), 702),\n",
       " (('Automotive', 'Las Vegas'), 680),\n",
       " ((' Active Life', 'Phoenix'), 679),\n",
       " ((' Fashion', 'Toronto'), 676),\n",
       " ((' Home & Garden', 'Phoenix'), 671),\n",
       " ((' Nightlife', 'Phoenix'), 670),\n",
       " ((' Home & Garden', 'Las Vegas'), 665),\n",
       " ((' Local Services', 'Toronto'), 655),\n",
       " ((' Food', 'Scottsdale'), 646),\n",
       " ((' Specialty Food', 'Toronto'), 628),\n",
       " (('Beauty & Spas', 'Toronto'), 621),\n",
       " ((' Doctors', 'Phoenix'), 620),\n",
       " ((' Restaurants', 'Henderson'), 614),\n",
       " (('Local Services', 'Las Vegas'), 612),\n",
       " ((' Shopping', 'Chandler'), 612),\n",
       " ((' Real Estate', 'Phoenix'), 607),\n",
       " ((' Shopping', 'Tempe'), 603),\n",
       " ((' Auto Repair', 'Las Vegas'), 601),\n",
       " (('Health & Medical', 'Phoenix'), 601),\n",
       " ((' Restaurants', 'Chandler'), 588),\n",
       " ((' Restaurants', 'Markham'), 587),\n",
       " ((' Bars', 'Phoenix'), 586),\n",
       " (('Automotive', 'Phoenix'), 580),\n",
       " ((' Nightlife', 'Charlotte'), 571),\n",
       " ((' Sandwiches', 'Las Vegas'), 569),\n",
       " ((' Nightlife', 'Pittsburgh'), 565),\n",
       " ((' Mexican', 'Las Vegas'), 564),\n",
       " ((' Health & Medical', 'Charlotte'), 564),\n",
       " ((' Coffee & Tea', 'Las Vegas'), 563),\n",
       " ((' Canadian (New)', 'Toronto'), 560),\n",
       " ((' Beauty & Spas', 'Calgary'), 555),\n",
       " ((' Health & Medical', 'Mesa'), 552),\n",
       " ((' Nightlife', 'Montréal'), 550),\n",
       " ((' Active Life', 'Toronto'), 548),\n",
       " ((' Health & Medical', 'Henderson'), 545),\n",
       " ((' Shopping', 'Madison'), 542),\n",
       " ((' Financial Services', 'Las Vegas'), 541),\n",
       " ((' Home Services', 'Henderson'), 539),\n",
       " (('Food', 'Phoenix'), 539),\n",
       " ((' American (New)', 'Las Vegas'), 538),\n",
       " ((' Hair Removal', 'Las Vegas'), 536),\n",
       " ((' Cafes', 'Toronto'), 528),\n",
       " ((' Sandwiches', 'Toronto'), 525),\n",
       " (('Beauty & Spas', 'Phoenix'), 524),\n",
       " ((' Food', 'Cleveland'), 523),\n",
       " ((' Automotive', 'Mesa'), 523),\n",
       " ((' Shopping', 'Montréal'), 522),\n",
       " ((' Shopping', 'Henderson'), 519),\n",
       " ((' Breakfast & Brunch', 'Toronto'), 518),\n",
       " ((' Nightlife', 'Calgary'), 518),\n",
       " ((' Fitness & Instruction', 'Las Vegas'), 518),\n",
       " ((' Shopping', 'Glendale'), 514),\n",
       " ((' Local Services', 'Scottsdale'), 512),\n",
       " ((' Local Services', 'Charlotte'), 512),\n",
       " ((' Bars', 'Charlotte'), 510),\n",
       " ((' Bars', 'Pittsburgh'), 508),\n",
       " ((' Pizza', 'Las Vegas'), 505),\n",
       " ((' Mexican', 'Phoenix'), 497),\n",
       " (('Nightlife', 'Las Vegas'), 497),\n",
       " ((' Burgers', 'Las Vegas'), 495),\n",
       " ((' Home Services', 'Tempe'), 495),\n",
       " ((' Local Services', 'Mesa'), 492),\n",
       " ((' Home Services', 'Chandler'), 492),\n",
       " (('Restaurants', 'Mississauga'), 491),\n",
       " ((\" Women's Clothing\", 'Las Vegas'), 491),\n",
       " ((' Restaurants', 'Glendale'), 490),\n",
       " ((' Auto Repair', 'Phoenix'), 490),\n",
       " ((' Home Services', 'Gilbert'), 486),\n",
       " ((' Fashion', 'Phoenix'), 486),\n",
       " ((' Food', 'Madison'), 486),\n",
       " ((' Nail Salons', 'Las Vegas'), 481),\n",
       " ((' Bars', 'Montréal'), 481),\n",
       " ((' Active Life', 'Scottsdale'), 481),\n",
       " ((' Health & Medical', 'Chandler'), 480),\n",
       " ((' Arts & Entertainment', 'Toronto'), 474),\n",
       " ((' Fast Food', 'Phoenix'), 474),\n",
       " ((' Skin Care', 'Las Vegas'), 472),\n",
       " (('Food', 'Montréal'), 468),\n",
       " (('Local Services', 'Phoenix'), 466),\n",
       " ((' Doctors', 'Scottsdale'), 466),\n",
       " ((' Nightlife', 'Scottsdale'), 464),\n",
       " ((' Sandwiches', 'Phoenix'), 463),\n",
       " ((' Event Planning & Services', 'Charlotte'), 462),\n",
       " ((' Education', 'Las Vegas'), 459),\n",
       " ((' Bars', 'Calgary'), 459),\n",
       " ((' Breakfast & Brunch', 'Las Vegas'), 453),\n",
       " ((' Specialty Food', 'Las Vegas'), 453),\n",
       " ((' Food', 'Mesa'), 448),\n",
       " ((' Hotels & Travel', 'Phoenix'), 440),\n",
       " (('Food', 'Calgary'), 440),\n",
       " ((' Hair Salons', 'Toronto'), 439),\n",
       " (('Restaurants', 'Cleveland'), 439),\n",
       " ((' Italian', 'Toronto'), 438),\n",
       " ((' Shopping', 'Gilbert'), 437),\n",
       " ((' Contractors', 'Phoenix'), 434),\n",
       " ((' Health & Medical', 'Gilbert'), 431),\n",
       " ((' Arts & Entertainment', 'Phoenix'), 431),\n",
       " ((' Automotive', 'Charlotte'), 427),\n",
       " ((' Food', 'Tempe'), 426),\n",
       " ((' Food', 'Mississauga'), 425),\n",
       " ((' Bakeries', 'Toronto'), 422),\n",
       " ((' Home Services', 'Toronto'), 419),\n",
       " ((' Beauty & Spas', 'Henderson'), 418),\n",
       " ((' Desserts', 'Toronto'), 416),\n",
       " ((' Dentists', 'Las Vegas'), 416),\n",
       " ((' Chinese', 'Toronto'), 416),\n",
       " ((' American (Traditional)', 'Phoenix'), 416),\n",
       " ((' Bars', 'Scottsdale'), 415),\n",
       " ((' Contractors', 'Las Vegas'), 414),\n",
       " ((' Fast Food', 'Toronto'), 411),\n",
       " ((' Beauty & Spas', 'Pittsburgh'), 407),\n",
       " ((' Accessories', 'Las Vegas'), 405),\n",
       " ((' Event Planning & Services', 'Scottsdale'), 404),\n",
       " ((' Hair Salons', 'Phoenix'), 403),\n",
       " ((' Home Services', 'Pittsburgh'), 403),\n",
       " ((' Coffee & Tea', 'Montréal'), 401),\n",
       " (('Restaurants', 'Scottsdale'), 400),\n",
       " (('Health & Medical', 'Scottsdale'), 398),\n",
       " ((' Food', 'Henderson'), 398),\n",
       " ((' Restaurants', 'Gilbert'), 398),\n",
       " (('Arts & Entertainment', 'Las Vegas'), 394),\n",
       " ((' Hair Stylists', 'Las Vegas'), 392),\n",
       " (('Coffee & Tea', 'Toronto'), 388),\n",
       " ((' General Dentistry', 'Las Vegas'), 386),\n",
       " ((' Coffee & Tea', 'Phoenix'), 386),\n",
       " (('Food', 'Charlotte'), 386),\n",
       " ((' Pizza', 'Toronto'), 385),\n",
       " ((' Desserts', 'Las Vegas'), 384),\n",
       " ((' Restaurants', 'Brampton'), 384),\n",
       " (('Shopping', 'Calgary'), 380),\n",
       " ((' Nightlife', 'Cleveland'), 380),\n",
       " (('Shopping', 'Charlotte'), 377),\n",
       " ((' Beauty & Spas', 'Chandler'), 377),\n",
       " ((' Breakfast & Brunch', 'Phoenix'), 376),\n",
       " ((' Home Services', 'Glendale'), 373),\n",
       " ((' Automotive', 'Calgary'), 373),\n",
       " (('Restaurants', 'Mesa'), 371),\n",
       " (('Shopping', 'Scottsdale'), 368),\n",
       " ((' Japanese', 'Toronto'), 367),\n",
       " ((' Fashion', 'Scottsdale'), 365),\n",
       " ((' Cafes', 'Montréal'), 364),\n",
       " ((' Cosmetics & Beauty Supply', 'Las Vegas'), 363),\n",
       " (('Event Planning & Services', 'Las Vegas'), 363),\n",
       " ((' Massage', 'Las Vegas'), 361),\n",
       " ((' Shopping', 'Cleveland'), 358),\n",
       " ((' Real Estate', 'Scottsdale'), 357),\n",
       " ((' Food', 'Chandler'), 357),\n",
       " ((' American (Traditional)', 'Charlotte'), 356),\n",
       " ((' Health & Medical', 'Glendale'), 354),\n",
       " (('Beauty & Spas', 'Scottsdale'), 354),\n",
       " (('Food', 'Pittsburgh'), 354),\n",
       " ((' Beauty & Spas', 'Mesa'), 354),\n",
       " ((' Local Services', 'Pittsburgh'), 350),\n",
       " ((' Fitness & Instruction', 'Toronto'), 349),\n",
       " ((' Day Spas', 'Las Vegas'), 347),\n",
       " ((' Real Estate Services', 'Las Vegas'), 347),\n",
       " ((' Fitness & Instruction', 'Phoenix'), 346),\n",
       " ((' Professional Services', 'Scottsdale'), 346),\n",
       " (('Real Estate', 'Las Vegas'), 346),\n",
       " ((' Active Life', 'Charlotte'), 345),\n",
       " ((' Health & Medical', 'Tempe'), 345),\n",
       " ((' Restaurants', 'Richmond Hill'), 345),\n",
       " ((' Hair Removal', 'Toronto'), 343),\n",
       " ((' Beauty & Spas', 'Glendale'), 342),\n",
       " ((' Event Planning & Services', 'Pittsburgh'), 342),\n",
       " (('Professional Services', 'Las Vegas'), 342),\n",
       " ((' Hotels', 'Las Vegas'), 342),\n",
       " ((' Apartments', 'Las Vegas'), 342),\n",
       " ((' Restaurants', 'Scarborough'), 340),\n",
       " ((' Burgers', 'Phoenix'), 340),\n",
       " ((' Sandwiches', 'Charlotte'), 340),\n",
       " ((' Local Services', 'Tempe'), 339),\n",
       " ((' Pets', 'Las Vegas'), 338),\n",
       " ((\" Men's Clothing\", 'Las Vegas'), 336),\n",
       " ((' Restaurants', 'Vaughan'), 335),\n",
       " ((' Apartments', 'Phoenix'), 335),\n",
       " ((' Bars', 'Cleveland'), 334),\n",
       " ((' Hair Salons', 'Scottsdale'), 334),\n",
       " ((' Health & Medical', 'Pittsburgh'), 332),\n",
       " (('Nightlife', 'Toronto'), 332),\n",
       " ((' Burgers', 'Toronto'), 332),\n",
       " ((' Local Services', 'Henderson'), 331),\n",
       " ((' Dentists', 'Phoenix'), 331),\n",
       " (('Active Life', 'Las Vegas'), 329),\n",
       " ((' Waxing', 'Las Vegas'), 329),\n",
       " ((' Beauty & Spas', 'Gilbert'), 328),\n",
       " ((' Chinese', 'Las Vegas'), 328),\n",
       " ((' Fast Food', 'Charlotte'), 328),\n",
       " ((' Financial Services', 'Phoenix'), 328),\n",
       " ((' Home Services', 'Calgary'), 325),\n",
       " ((' Fashion', 'Charlotte'), 324),\n",
       " ((' Breakfast & Brunch', 'Montréal'), 323),\n",
       " ((' Home & Garden', 'Toronto'), 323),\n",
       " ((' Automotive', 'Scottsdale'), 323),\n",
       " (('Beauty & Spas', 'Charlotte'), 323),\n",
       " (('Hotels & Travel', 'Las Vegas'), 322),\n",
       " (('Home Services', 'Scottsdale'), 322),\n",
       " ((' Health & Medical', 'Calgary'), 322),\n",
       " ((\" Women's Clothing\", 'Toronto'), 322),\n",
       " ((' Restaurants', 'North York'), 322),\n",
       " ((' Eyelash Service', 'Las Vegas'), 321),\n",
       " ((' Hotels & Travel', 'Toronto'), 321),\n",
       " ((' American (New)', 'Phoenix'), 320),\n",
       " ((' Nail Salons', 'Toronto'), 319),\n",
       " (('Fashion', 'Las Vegas'), 318),\n",
       " (('Restaurants', 'Madison'), 318),\n",
       " ((' Pizza', 'Phoenix'), 317),\n",
       " ((' Italian', 'Las Vegas'), 316),\n",
       " (('Restaurants', 'Tempe'), 313),\n",
       " ((' Shopping', 'Mississauga'), 313),\n",
       " ((' Education', 'Phoenix'), 313),\n",
       " (('Home Services', 'Charlotte'), 313),\n",
       " ((' American (Traditional)', 'Toronto'), 312),\n",
       " ((' Skin Care', 'Scottsdale'), 312),\n",
       " ((' Restaurants', 'Champaign'), 311),\n",
       " ((' Pubs', 'Toronto'), 309),\n",
       " ((' Wine & Spirits', 'Las Vegas'), 309),\n",
       " ((' American (New)', 'Charlotte'), 308),\n",
       " ((' Beauty & Spas', 'Tempe'), 301),\n",
       " ((' Real Estate', 'Charlotte'), 300),\n",
       " ((' Performing Arts', 'Las Vegas'), 297),\n",
       " (('Home Services', 'Mesa'), 297),\n",
       " (('Shopping', 'Pittsburgh'), 296),\n",
       " ((' Food', 'Glendale'), 296),\n",
       " ((' Pets', 'Phoenix'), 295),\n",
       " ((' Japanese', 'Las Vegas'), 295),\n",
       " ((' Party & Event Planning', 'Las Vegas'), 294),\n",
       " (('Bars', 'Toronto'), 294),\n",
       " ((' American (Traditional)', 'Pittsburgh'), 293),\n",
       " ((' Lounges', 'Las Vegas'), 293),\n",
       " ((' Lawyers', 'Las Vegas'), 293),\n",
       " ((' Seafood', 'Las Vegas'), 292),\n",
       " ((' Automotive', 'Tempe'), 291),\n",
       " ((' Sandwiches', 'Pittsburgh'), 291),\n",
       " ((' Food', 'Markham'), 291),\n",
       " ((' Food', 'Gilbert'), 291),\n",
       " (('Bars', 'Las Vegas'), 290),\n",
       " ((' Local Services', 'Calgary'), 290),\n",
       " ((' Skin Care', 'Toronto'), 289),\n",
       " (('Doctors', 'Las Vegas'), 288),\n",
       " ((' Hair Salons', 'Charlotte'), 287),\n",
       " ((' Pet Services', 'Las Vegas'), 286),\n",
       " ((' Convenience Stores', 'Las Vegas'), 285),\n",
       " ((' Home & Garden', 'Scottsdale'), 284),\n",
       " (('Fast Food', 'Las Vegas'), 283),\n",
       " ((' Local Services', 'Gilbert'), 281),\n",
       " ((' Real Estate Agents', 'Las Vegas'), 279),\n",
       " (('Hair Salons', 'Las Vegas'), 279),\n",
       " (('Restaurants', 'Chandler'), 278),\n",
       " ((' Automotive', 'Pittsburgh'), 278),\n",
       " ((' Local Services', 'Chandler'), 278),\n",
       " ((' Specialty Food', 'Montréal'), 277),\n",
       " ((' Hair Removal', 'Scottsdale'), 276),\n",
       " ((' Fitness & Instruction', 'Scottsdale'), 276),\n",
       " ((' General Dentistry', 'Phoenix'), 275),\n",
       " ((' Grocery', 'Las Vegas'), 275),\n",
       " ((' Grocery', 'Phoenix'), 274),\n",
       " ((' Fashion', 'Calgary'), 274),\n",
       " ((' Coffee & Tea', 'Calgary'), 273),\n",
       " ((' Event Planning & Services', 'Calgary'), 272),\n",
       " (('Restaurants', 'Henderson'), 271),\n",
       " ((' Hair Removal', 'Phoenix'), 268),\n",
       " ((' Sandwiches', 'Montréal'), 266),\n",
       " ((' Sushi Bars', 'Toronto'), 266),\n",
       " (('Shopping', 'Mesa'), 265),\n",
       " (('Hair Salons', 'Toronto'), 265),\n",
       " ((' Bars', 'Madison'), 264),\n",
       " (('Mexican', 'Las Vegas'), 263),\n",
       " ((' Bakeries', 'Las Vegas'), 263),\n",
       " ((' Automotive', 'Henderson'), 263),\n",
       " ((' Asian Fusion', 'Las Vegas'), 263),\n",
       " (('Health & Medical', 'Toronto'), 261),\n",
       " ((' Nightlife', 'Madison'), 260),\n",
       " ((' Makeup Artists', 'Las Vegas'), 260),\n",
       " (('Local Services', 'Toronto'), 259),\n",
       " (('Restaurants', 'Markham'), 258),\n",
       " ((' Nail Salons', 'Phoenix'), 258),\n",
       " ((' Massage', 'Toronto'), 257),\n",
       " ((' Home Services', 'Madison'), 257),\n",
       " (('Mexican', 'Phoenix'), 256),\n",
       " ((' Doctors', 'Henderson'), 255),\n",
       " ((' Active Life', 'Calgary'), 255),\n",
       " ((' Hair Extensions', 'Las Vegas'), 255),\n",
       " ((' Arts & Entertainment', 'Charlotte'), 254),\n",
       " ((' Beer', 'Las Vegas'), 254),\n",
       " ((' American (New)', 'Pittsburgh'), 254),\n",
       " ((' Restaurants', 'Peoria'), 253),\n",
       " ((' Pet Services', 'Phoenix'), 252),\n",
       " ((' Active Life', 'Mesa'), 252),\n",
       " ((' Shopping', 'Peoria'), 251),\n",
       " ((' Shoe Stores', 'Las Vegas'), 251),\n",
       " ((' Pizza', 'Pittsburgh'), 251),\n",
       " ((' French', 'Montréal'), 251),\n",
       " ((' Fashion', 'Pittsburgh'), 250),\n",
       " (('Auto Repair', 'Las Vegas'), 250),\n",
       " ((' Restaurants', 'North Las Vegas'), 249),\n",
       " ((' Day Spas', 'Toronto'), 248),\n",
       " ((' Professional Services', 'Toronto'), 248),\n",
       " ((' Automotive', 'Toronto'), 247),\n",
       " ((' Sports Bars', 'Las Vegas'), 246),\n",
       " ((' Gas Stations', 'Las Vegas'), 246),\n",
       " ((' Active Life', 'Henderson'), 246),\n",
       " (('Beauty & Spas', 'Calgary'), 245),\n",
       " ((' Grocery', 'Toronto'), 245),\n",
       " ((' Skin Care', 'Phoenix'), 244),\n",
       " ((' American (New)', 'Scottsdale'), 244),\n",
       " (('Real Estate', 'Phoenix'), 243),\n",
       " ((' Medical Centers', 'Las Vegas'), 243),\n",
       " ((' Active Life', 'Pittsburgh'), 243),\n",
       " ((' Hotels & Travel', 'Charlotte'), 243),\n",
       " (('Financial Services', 'Las Vegas'), 242),\n",
       " ((' Auto Repair', 'Mesa'), 242),\n",
       " ((' Asian Fusion', 'Toronto'), 242),\n",
       " ((' Arts & Entertainment', 'Scottsdale'), 241),\n",
       " ((' Specialty Food', 'Phoenix'), 240),\n",
       " ((' Cosmetic Dentists', 'Las Vegas'), 240),\n",
       " (('Nail Salons', 'Las Vegas'), 239),\n",
       " ((' Ice Cream & Frozen Yogurt', 'Las Vegas'), 238),\n",
       " ((' IT Services & Computer Repair', 'Las Vegas'), 237),\n",
       " ((' Caterers', 'Toronto'), 237),\n",
       " ((' Middle Eastern', 'Toronto'), 236),\n",
       " (('Chinese', 'Toronto'), 236),\n",
       " ((' Home Decor', 'Las Vegas'), 236),\n",
       " ((' Event Planning & Services', 'Montréal'), 235),\n",
       " ((' Canadian (New)', 'Montréal'), 235),\n",
       " (('Automotive', 'Mesa'), 235),\n",
       " ((' Mediterranean', 'Toronto'), 235),\n",
       " ((' Specialty Food', 'Calgary'), 234),\n",
       " ((' Beauty & Spas', 'Madison'), 233),\n",
       " ((' Home & Garden', 'Mesa'), 233),\n",
       " (('Health & Medical', 'Charlotte'), 233),\n",
       " ((' Canadian (New)', 'Calgary'), 232),\n",
       " ((' Juice Bars & Smoothies', 'Las Vegas'), 232),\n",
       " (('Professional Services', 'Phoenix'), 231),\n",
       " ((' Casinos', 'Las Vegas'), 231),\n",
       " ((' Local Services', 'Glendale'), 231),\n",
       " (('Restaurants', 'Glendale'), 230),\n",
       " ((' Jewelry', 'Las Vegas'), 229),\n",
       " ((' Restaurants', 'Concord'), 228),\n",
       " ((' Coffee & Tea', 'Pittsburgh'), 227),\n",
       " ((' Specialty Schools', 'Las Vegas'), 226),\n",
       " ((' Photographers', 'Las Vegas'), 225),\n",
       " ((' Accessories', 'Toronto'), 225),\n",
       " (('Health & Medical', 'Henderson'), 225),\n",
       " ((' Pets', 'Toronto'), 225),\n",
       " ((' Home & Garden', 'Charlotte'), 225),\n",
       " ((' Pizza', 'Calgary'), 224),\n",
       " ((' Italian', 'Phoenix'), 224),\n",
       " ((' Venues & Event Spaces', 'Las Vegas'), 224),\n",
       " ((' Home Services', 'Peoria'), 224),\n",
       " (('Fashion', 'Toronto'), 224),\n",
       " ((' Gyms', 'Las Vegas'), 223),\n",
       " ((' Wine & Spirits', 'Toronto'), 223),\n",
       " ((' Sushi Bars', 'Las Vegas'), 223),\n",
       " (('Health & Medical', 'Mesa'), 222),\n",
       " ((' Real Estate', 'Henderson'), 222),\n",
       " ((' Sandwiches', 'Calgary'), 221),\n",
       " ((' Ice Cream & Frozen Yogurt', 'Toronto'), 221),\n",
       " ((' Hotels & Travel', 'Scottsdale'), 221),\n",
       " ((' Salad', 'Las Vegas'), 220),\n",
       " ((' Indian', 'Toronto'), 220),\n",
       " ((' Arts & Entertainment', 'Pittsburgh'), 220),\n",
       " ((' Mags', 'Toronto'), 219),\n",
       " (('Food', 'Scottsdale'), 219),\n",
       " ((' Music & Video', 'Toronto'), 219),\n",
       " ((' Burgers', 'Charlotte'), 218),\n",
       " ((' Chicken Wings', 'Las Vegas'), 218),\n",
       " ((' Oil Change Stations', 'Las Vegas'), 218),\n",
       " (('Event Planning & Services', 'Phoenix'), 217),\n",
       " ((' Professional Services', 'Mesa'), 217),\n",
       " ((' Professional Services', 'Tempe'), 216),\n",
       " ((' Auto Parts & Supplies', 'Las Vegas'), 216),\n",
       " ((' Professional Services', 'Charlotte'), 216),\n",
       " ((' Education', 'Toronto'), 216),\n",
       " ((' Restaurants', 'Etobicoke'), 216),\n",
       " ((' Electronics', 'Las Vegas'), 215),\n",
       " ((' Auto Repair', 'Calgary'), 215),\n",
       " ((' Lounges', 'Toronto'), 213),\n",
       " ((' Doctors', 'Mesa'), 213),\n",
       " ((' Breakfast & Brunch', 'Charlotte'), 212),\n",
       " ((' American (Traditional)', 'Scottsdale'), 211),\n",
       " ((' Caterers', 'Las Vegas'), 210),\n",
       " ((' Fast Food', 'Calgary'), 210),\n",
       " ((' Flowers & Gifts', 'Las Vegas'), 209),\n",
       " (('Auto Repair', 'Phoenix'), 208),\n",
       " ((' Beauty & Spas', 'Montréal'), 208),\n",
       " ((' Event Planning & Services', 'Madison'), 208),\n",
       " (('Doctors', 'Phoenix'), 208),\n",
       " ((' Home Decor', 'Phoenix'), 208),\n",
       " ((' Automotive', 'Chandler'), 208),\n",
       " ((' Cafes', 'Las Vegas'), 207),\n",
       " ((' Convenience Stores', 'Phoenix'), 207),\n",
       " ((' Home & Garden', 'Calgary'), 207),\n",
       " (('Shopping', 'Montréal'), 206),\n",
       " ((' Local Flavor', 'Las Vegas'), 205),\n",
       " ((' Automotive', 'Glendale'), 205),\n",
       " (('Shopping', 'Henderson'), 205),\n",
       " ((' Shopping', 'Champaign'), 204),\n",
       " ((' Auto Repair', 'Charlotte'), 204),\n",
       " ((' Dentists', 'Scottsdale'), 204),\n",
       " ((' Hair Removal', 'Charlotte'), 204),\n",
       " ((' Venues & Event Spaces', 'Toronto'), 204),\n",
       " ((' Coffee & Tea', 'Charlotte'), 203),\n",
       " ((' Seafood', 'Toronto'), 203),\n",
       " ((' Local Services', 'Madison'), 203),\n",
       " (('Coffee & Tea', 'Las Vegas'), 203),\n",
       " ((' Specialty Food', 'Charlotte'), 203),\n",
       " (('Fast Food', 'Phoenix'), 203),\n",
       " (('Active Life', 'Phoenix'), 203),\n",
       " ((' Property Management', 'Las Vegas'), 202),\n",
       " ((' Furniture Stores', 'Las Vegas'), 202),\n",
       " (('Active Life', 'Toronto'), 202),\n",
       " ((' American (New)', 'Toronto'), 201),\n",
       " ((' Active Life', 'Chandler'), 201),\n",
       " ((' Fitness & Instruction', 'Charlotte'), 201),\n",
       " ((' Health & Medical', 'Peoria'), 201),\n",
       " ((' Nightlife', 'Tempe'), 201),\n",
       " ((' Massage Therapy', 'Las Vegas'), 200),\n",
       " ((' Dance Clubs', 'Las Vegas'), 199),\n",
       " ((' Trainers', 'Las Vegas'), 199),\n",
       " ((' Bakeries', 'Phoenix'), 199),\n",
       " ((' Italian', 'Montréal'), 199),\n",
       " ((' Sporting Goods', 'Las Vegas'), 199),\n",
       " ((' Active Life', 'Tempe'), 198),\n",
       " ((' Sandwiches', 'Scottsdale'), 198),\n",
       " ((' Steakhouses', 'Las Vegas'), 197),\n",
       " ((' Insurance', 'Las Vegas'), 197),\n",
       " ((' Event Planning & Services', 'Mesa'), 196),\n",
       " ((' Event Planning & Services', 'Cleveland'), 195),\n",
       " ((' Professional Services', 'Henderson'), 195),\n",
       " (('Home Services', 'Henderson'), 194),\n",
       " ((' Bakeries', 'Montréal'), 194),\n",
       " ((' Cosmetic Dentists', 'Phoenix'), 194),\n",
       " (('Italian', 'Toronto'), 193),\n",
       " ((' Restaurants', 'Laval'), 193),\n",
       " (('Local Services', 'Charlotte'), 192),\n",
       " ((' Home Cleaning', 'Las Vegas'), 192),\n",
       " ((' Barbers', 'Las Vegas'), 192),\n",
       " (('Shopping', 'Tempe'), 192),\n",
       " ((' Juice Bars & Smoothies', 'Toronto'), 192),\n",
       " ((\" Men's Clothing\", 'Toronto'), 192),\n",
       " ((' Flowers & Gifts', 'Toronto'), 190),\n",
       " ((' Beauty & Spas', 'Mississauga'), 190),\n",
       " ((' Chicken Wings', 'Toronto'), 190),\n",
       " ((' Korean', 'Toronto'), 190),\n",
       " ((' Hair Salons', 'Calgary'), 189),\n",
       " (('Event Planning & Services', 'Toronto'), 189),\n",
       " (('Beauty & Spas', 'Pittsburgh'), 189),\n",
       " ((' Apartments', 'Charlotte'), 189),\n",
       " ((\" Women's Clothing\", 'Phoenix'), 189),\n",
       " ((' Tires', 'Las Vegas'), 189),\n",
       " ((' Real Estate', 'Tempe'), 188),\n",
       " ((' Mexican', 'Toronto'), 188),\n",
       " ((' Auto Parts & Supplies', 'Phoenix'), 188),\n",
       " (('Home Services', 'Tempe'), 188),\n",
       " ((' Music Venues', 'Las Vegas'), 187),\n",
       " (('American (Traditional)', 'Las Vegas'), 186),\n",
       " (('Pizza', 'Toronto'), 186),\n",
       " ((' Medical Spas', 'Las Vegas'), 186),\n",
       " ((' Arts & Crafts', 'Las Vegas'), 185),\n",
       " ((' Tours', 'Las Vegas'), 185),\n",
       " (('Automotive', 'Charlotte'), 184),\n",
       " ((' American (Traditional)', 'Cleveland'), 184),\n",
       " ((' Department Stores', 'Las Vegas'), 183),\n",
       " ((' Shopping', 'Markham'), 183),\n",
       " ((' Real Estate', 'Mesa'), 183),\n",
       " ((' Arts & Crafts', 'Toronto'), 183),\n",
       " ((' Doctors', 'Gilbert'), 183),\n",
       " ((' Arts & Entertainment', 'Calgary'), 183),\n",
       " ((' Oil Change Stations', 'Phoenix'), 183),\n",
       " ((' Pubs', 'Calgary'), 182),\n",
       " (('Breakfast & Brunch', 'Toronto'), 182),\n",
       " ((' Pizza', 'Charlotte'), 182),\n",
       " ((' Health & Medical', 'Madison'), 181),\n",
       " ((' Breakfast & Brunch', 'Scottsdale'), 181),\n",
       " (('Nightlife', 'Montréal'), 181),\n",
       " ((' Automotive', 'Cleveland'), 181),\n",
       " ((' Doctors', 'Toronto'), 181),\n",
       " (('Pizza', 'Las Vegas'), 181),\n",
       " (('Sandwiches', 'Toronto'), 180),\n",
       " ((' Home Services', 'North Las Vegas'), 180),\n",
       " ((' Automotive', 'Gilbert'), 180),\n",
       " ((' Printing Services', 'Las Vegas'), 180),\n",
       " ((' Breakfast & Brunch', 'Calgary'), 179),\n",
       " ((' Doctors', 'Charlotte'), 179),\n",
       " (('Restaurants', 'Gilbert'), 179),\n",
       " (('Shopping', 'Chandler'), 179),\n",
       " (('Japanese', 'Toronto'), 179),\n",
       " ((' Hotels & Travel', 'Montréal'), 178),\n",
       " ((' Thai', 'Toronto'), 178),\n",
       " (('Home Services', 'Chandler'), 178),\n",
       " ((' Cocktail Bars', 'Las Vegas'), 177),\n",
       " ((' Gas Stations', 'Phoenix'), 177),\n",
       " ((' Home Services', 'Cleveland'), 177),\n",
       " ((' Home & Garden', 'Pittsburgh'), 176),\n",
       " ((' Arts & Entertainment', 'Montréal'), 176),\n",
       " ((' Gyms', 'Phoenix'), 176),\n",
       " (('Apartments', 'Las Vegas'), 175),\n",
       " ((' Cosmetics & Beauty Supply', 'Phoenix'), 175),\n",
       " ((' Drugstores', 'Las Vegas'), 175),\n",
       " ((' Chinese', 'Markham'), 175),\n",
       " (('Food', 'Mesa'), 174),\n",
       " (('Restaurants', 'Scarborough'), 174),\n",
       " ((' Medical Spas', 'Scottsdale'), 174),\n",
       " ((\" Women's Clothing\", 'Scottsdale'), 174),\n",
       " ((' Salad', 'Phoenix'), 174),\n",
       " ((' Fast Food', 'Mesa'), 174),\n",
       " (('Specialty Food', 'Toronto'), 173),\n",
       " ((' Plumbing', 'Las Vegas'), 173),\n",
       " ((' Waxing', 'Phoenix'), 172),\n",
       " ((' Wedding Planning', 'Las Vegas'), 172),\n",
       " (('Sandwiches', 'Las Vegas'), 172),\n",
       " (('Local Services', 'Scottsdale'), 172),\n",
       " ((' Medical Centers', 'Phoenix'), 171),\n",
       " ((' Heating & Air Conditioning/HVAC', 'Las Vegas'), 171),\n",
       " (('Shopping', 'Glendale'), 171),\n",
       " ((' Contractors', 'Mesa'), 171),\n",
       " ((' Event Planning & Services', 'Tempe'), 171),\n",
       " ((' Salad', 'Toronto'), 171),\n",
       " ((' Caterers', 'Phoenix'), 171),\n",
       " ((' Nail Salons', 'Charlotte'), 170),\n",
       " ((' Doctors', 'Chandler'), 170),\n",
       " ((' Car Dealers', 'Las Vegas'), 170),\n",
       " ((' Day Spas', 'Scottsdale'), 170),\n",
       " ((' Restaurants', 'Surprise'), 170),\n",
       " ((' Banks & Credit Unions', 'Las Vegas'), 170),\n",
       " ((' Financial Services', 'Scottsdale'), 170),\n",
       " (('Nightlife', 'Phoenix'), 170),\n",
       " (('Home Services', 'Gilbert'), 169),\n",
       " ((' Waxing', 'Toronto'), 169),\n",
       " ((' Desserts', 'Phoenix'), 169),\n",
       " ((' Pizza', 'Montréal'), 169),\n",
       " ((' Breakfast & Brunch', 'Pittsburgh'), 169),\n",
       " ((' Barbeque', 'Las Vegas'), 168),\n",
       " (('Food', 'Cleveland'), 168),\n",
       " ((' Bars', 'Tempe'), 168),\n",
       " ((' Tires', 'Phoenix'), 167),\n",
       " ((' Shopping', 'North Las Vegas'), 167),\n",
       " ((' Hotels & Travel', 'Pittsburgh'), 167),\n",
       " ((' Active Life', 'Gilbert'), 167),\n",
       " ((' Coffee & Tea', 'Scottsdale'), 167),\n",
       " ((' Mobile Phones', 'Las Vegas'), 167),\n",
       " ((' Hair Salons', 'Pittsburgh'), 167),\n",
       " (('Dentists', 'Las Vegas'), 167),\n",
       " ((' Landscaping', 'Phoenix'), 167),\n",
       " ((' Local Services', 'Cleveland'), 166),\n",
       " ((' Beer', 'Toronto'), 166),\n",
       " ((' Sporting Goods', 'Toronto'), 166),\n",
       " (('Home Services', 'Toronto'), 166),\n",
       " ((' Fashion', 'Montréal'), 166),\n",
       " (('Hotels & Travel', 'Toronto'), 166),\n",
       " ((' Hotels & Travel', 'Calgary'), 166),\n",
       " ((' General Dentistry', 'Scottsdale'), 166),\n",
       " (('Beauty & Spas', 'Chandler'), 166),\n",
       " ((' Books', 'Toronto'), 166),\n",
       " ((' Massage', 'Scottsdale'), 166),\n",
       " (('Bakeries', 'Toronto'), 165),\n",
       " (('Beauty & Spas', 'Henderson'), 165),\n",
       " (('Hotels & Travel', 'Phoenix'), 165),\n",
       " ((' Burgers', 'Montréal'), 165),\n",
       " (('Shopping', 'Madison'), 165),\n",
       " ((' Furniture Stores', 'Phoenix'), 164),\n",
       " ((' Event Planning & Services', 'Henderson'), 164),\n",
       " ((' Trainers', 'Phoenix'), 164),\n",
       " (('Food', 'Mississauga'), 164),\n",
       " ((' Barbers', 'Phoenix'), 163),\n",
       " (('Doctors', 'Scottsdale'), 163),\n",
       " ((' Mags', 'Las Vegas'), 163),\n",
       " ((' Hair Stylists', 'Phoenix'), 163),\n",
       " ((' Music & Video', 'Las Vegas'), 163),\n",
       " ((' Wine & Spirits', 'Charlotte'), 163),\n",
       " (('Beauty & Spas', 'Mesa'), 162),\n",
       " ((' Automotive', 'Madison'), 162),\n",
       " (('Restaurants', 'Brampton'), 162),\n",
       " ((' Pet Services', 'Toronto'), 161),\n",
       " ((' Italian', 'Pittsburgh'), 161),\n",
       " ((' Ethnic Food', 'Toronto'), 161),\n",
       " ((' Lawyers', 'Phoenix'), 161),\n",
       " ((' American (Traditional)', 'Mesa'), 160),\n",
       " (('Health & Medical', 'Chandler'), 160),\n",
       " ((' Sandwiches', 'Cleveland'), 159),\n",
       " ((' Chicken Wings', 'Phoenix'), 159),\n",
       " ((' American (Traditional)', 'Calgary'), 159),\n",
       " ((' Landscaping', 'Las Vegas'), 159),\n",
       " ((' Heating & Air Conditioning/HVAC', 'Phoenix'), 159),\n",
       " ((' Shopping', 'Concord'), 158),\n",
       " (('Restaurants', 'Richmond Hill'), 158),\n",
       " ((' Arts & Entertainment', 'Cleveland'), 158),\n",
       " ((' Wine & Spirits', 'Phoenix'), 158),\n",
       " ((' Food', 'Vaughan'), 158),\n",
       " ((' Burgers', 'Calgary'), 158),\n",
       " ((' Food', 'Peoria'), 158),\n",
       " ((' Pubs', 'Las Vegas'), 158),\n",
       " (('Home & Garden', 'Phoenix'), 158),\n",
       " (('Arts & Entertainment', 'Toronto'), 157),\n",
       " (('Automotive', 'Toronto'), 157),\n",
       " ((' Flowers & Gifts', 'Phoenix'), 156),\n",
       " (('Food', 'Tempe'), 156),\n",
       " ((' Cosmetics & Beauty Supply', 'Toronto'), 156),\n",
       " ((' Education', 'Scottsdale'), 156),\n",
       " ((' Nail Salons', 'Scottsdale'), 156),\n",
       " ((' Fitness & Instruction', 'Calgary'), 156),\n",
       " ((' Chicken Wings', 'Charlotte'), 155),\n",
       " ((' Cocktail Bars', 'Toronto'), 155),\n",
       " ((' Ice Cream & Frozen Yogurt', 'Phoenix'), 155),\n",
       " (('Coffee & Tea', 'Phoenix'), 155),\n",
       " ((' Laundry Services', 'Las Vegas'), 155),\n",
       " (('Nail Salons', 'Toronto'), 155),\n",
       " ((' Active Life', 'Madison'), 155),\n",
       " ((' Personal Injury Law', 'Las Vegas'), 155),\n",
       " ((' Venues & Event Spaces', 'Phoenix'), 155),\n",
       " ((' Automotive', 'Peoria'), 154),\n",
       " ((' American (New)', 'Cleveland'), 154),\n",
       " ((' Food', 'Scarborough'), 154),\n",
       " ((' Carpet Cleaning', 'Las Vegas'), 154),\n",
       " ((' Barbeque', 'Toronto'), 154),\n",
       " ((' Hotels', 'Phoenix'), 153),\n",
       " ((' Transportation', 'Las Vegas'), 153),\n",
       " ((' Food', 'North Las Vegas'), 153),\n",
       " ((' Tobacco Shops', 'Las Vegas'), 153),\n",
       " ((' Pet Groomers', 'Las Vegas'), 153),\n",
       " (('Apartments', 'Phoenix'), 153),\n",
       " ((' Food', 'Champaign'), 153),\n",
       " (('Local Services', 'Mesa'), 152),\n",
       " (('Cafes', 'Toronto'), 152),\n",
       " ((' Nail Salons', 'Calgary'), 152),\n",
       " ((' Hair Salons', 'Henderson'), 152),\n",
       " ((' Burgers', 'Pittsburgh'), 151),\n",
       " ((' Fashion', 'Madison'), 151),\n",
       " ((' Eyelash Service', 'Toronto'), 151),\n",
       " ((' Food', 'North York'), 151),\n",
       " (('Beauty & Spas', 'Glendale'), 151),\n",
       " ((' Flooring', 'Las Vegas'), 150),\n",
       " ((' Hair Stylists', 'Scottsdale'), 150),\n",
       " (('Hair Salons', 'Phoenix'), 150),\n",
       " ((' Beauty & Spas', 'Peoria'), 149),\n",
       " (('Financial Services', 'Phoenix'), 149),\n",
       " (('Home Services', 'Glendale'), 148),\n",
       " ((' Vegetarian', 'Toronto'), 148),\n",
       " (('Pets', 'Las Vegas'), 148),\n",
       " ((' Nightlife', 'Mesa'), 148),\n",
       " ((' Nightlife', 'Mississauga'), 148),\n",
       " ((' Auto Repair', 'Tempe'), 148),\n",
       " ((' Home Services', 'Surprise'), 147),\n",
       " (('Home & Garden', 'Las Vegas'), 147),\n",
       " (('Sandwiches', 'Phoenix'), 147),\n",
       " (('Chinese', 'Las Vegas'), 147),\n",
       " ((' Chinese', 'Calgary'), 147),\n",
       " ((' Shopping', 'North York'), 147),\n",
       " ((' Fast Food', 'Pittsburgh'), 147),\n",
       " ((' Fashion', 'Chandler'), 147),\n",
       " ((' Food', 'Richmond Hill'), 147),\n",
       " ((' Waxing', 'Scottsdale'), 147),\n",
       " ((' Beauty & Spas', 'Cleveland'), 147),\n",
       " ((' Dentists', 'Charlotte'), 146),\n",
       " ((' Jewelry', 'Toronto'), 146),\n",
       " ((' Restaurants', 'Akron'), 146),\n",
       " ((' Tattoo', 'Las Vegas'), 145),\n",
       " ((' Plumbing', 'Phoenix'), 145),\n",
       " ((' Fashion', 'Tempe'), 145),\n",
       " ((' Pets', 'Charlotte'), 145),\n",
       " ((' Massage', 'Phoenix'), 144),\n",
       " ((' Chinese', 'Phoenix'), 144),\n",
       " ((' American (Traditional)', 'Madison'), 144),\n",
       " ((' Grocery', 'Charlotte'), 144),\n",
       " ((' Home Decor', 'Toronto'), 144),\n",
       " ((' Pets', 'Scottsdale'), 143),\n",
       " ((' Fashion', 'Mesa'), 143),\n",
       " ((' Sporting Goods', 'Phoenix'), 143),\n",
       " ((' Skin Care', 'Charlotte'), 143),\n",
       " ((' Comfort Food', 'Toronto'), 143),\n",
       " ((' Local Services', 'North Las Vegas'), 143),\n",
       " ((' Bars', 'Mississauga'), 143),\n",
       " ((' Discount Store', 'Las Vegas'), 142),\n",
       " ((' Event Planning & Services', 'Mississauga'), 142),\n",
       " ((\" Men's Hair Salons\", 'Las Vegas'), 142),\n",
       " ((' Automotive', 'North Las Vegas'), 142),\n",
       " ((' Doctors', 'Glendale'), 142),\n",
       " ((' Event Planning & Services', 'Chandler'), 142),\n",
       " ((' Cafes', 'Phoenix'), 142),\n",
       " ((' Home & Garden', 'Glendale'), 141),\n",
       " ((' Specialty Schools', 'Phoenix'), 141),\n",
       " ((' Restaurants', 'Matthews'), 141),\n",
       " ((' Food', 'Brampton'), 141),\n",
       " (('Pets', 'Phoenix'), 141),\n",
       " ((' Trainers', 'Scottsdale'), 141),\n",
       " ((' Delis', 'Phoenix'), 141),\n",
       " ((' Active Life', 'Montréal'), 141),\n",
       " ((' Auto Repair', 'Scottsdale'), 141),\n",
       " (('Automotive', 'Scottsdale'), 141),\n",
       " ((' Diners', 'Toronto'), 141),\n",
       " ((' Vegan', 'Toronto'), 140),\n",
       " ((' Mexican', 'Charlotte'), 140),\n",
       " ((' Salad', 'Charlotte'), 140),\n",
       " ((' Pizza', 'Scottsdale'), 140),\n",
       " ((' Dry Cleaning & Laundry', 'Toronto'), 140),\n",
       " ((' Restaurants', 'Fort Mill'), 140),\n",
       " ((' Chinese', 'Montréal'), 140),\n",
       " ((' Professional Services', 'Gilbert'), 140),\n",
       " (('Food', 'Madison'), 140),\n",
       " ((' Massage Therapy', 'Toronto'), 140),\n",
       " ((' Graphic Design', 'Las Vegas'), 140),\n",
       " ((' Home & Garden', 'Chandler'), 140),\n",
       " ((' Delis', 'Las Vegas'), 139),\n",
       " ((' Professional Services', 'Chandler'), 139),\n",
       " (('Restaurants', 'Vaughan'), 139),\n",
       " ((' Cosmetic Dentists', 'Scottsdale'), 139),\n",
       " (('American (New)', 'Las Vegas'), 139),\n",
       " ((' Drugstores', 'Phoenix'), 139),\n",
       " ((' Contractors', 'Scottsdale'), 139),\n",
       " (('Performing Arts', 'Las Vegas'), 139),\n",
       " ((' Restaurants', 'Gastonia'), 139),\n",
       " (('Automotive', 'Calgary'), 139),\n",
       " (('Restaurants', 'North York'), 139),\n",
       " ((' Accessories', 'Scottsdale'), 139),\n",
       " ((' Real Estate Services', 'Phoenix'), 139),\n",
       " ((' Real Estate', 'Chandler'), 139),\n",
       " ((' Restaurants', 'Avondale'), 138),\n",
       " ((' Nightlife', 'Henderson'), 138),\n",
       " ((' IT Services & Computer Repair', 'Phoenix'), 138),\n",
       " ((' Body Shops', 'Las Vegas'), 138),\n",
       " ((' Car Wash', 'Las Vegas'), 138),\n",
       " ((' Shopping', 'Surprise'), 138),\n",
       " ((' Fitness & Instruction', 'Henderson'), 138),\n",
       " (('Italian', 'Las Vegas'), 138),\n",
       " ((' Adult Entertainment', 'Las Vegas'), 137),\n",
       " ((' Arts & Crafts', 'Phoenix'), 137),\n",
       " ((' Restaurants', 'Mentor'), 137),\n",
       " ((' Blow Dry/Out Services', 'Las Vegas'), 137),\n",
       " ((' Bars', 'Henderson'), 137),\n",
       " ((' Orthodontists', 'Las Vegas'), 137),\n",
       " ((' Bars', 'Mesa'), 137),\n",
       " ((' Session Photography', 'Las Vegas'), 137),\n",
       " ((' Party & Event Planning', 'Phoenix'), 137),\n",
       " ((' Event Photography', 'Las Vegas'), 137),\n",
       " (('Health & Medical', 'Gilbert'), 136),\n",
       " ((' Beer', 'Phoenix'), 136),\n",
       " ((' Sandwiches', 'Mesa'), 136),\n",
       " ((' Laundry Services', 'Toronto'), 136),\n",
       " ((' Specialty Food', 'Pittsburgh'), 136),\n",
       " ((' Local Flavor', 'Phoenix'), 136),\n",
       " ((\"Women's Clothing\", 'Las Vegas'), 136),\n",
       " (('Nightlife', 'Pittsburgh'), 136),\n",
       " (('Pizza', 'Pittsburgh'), 136),\n",
       " ((' General Dentistry', 'Charlotte'), 135),\n",
       " ((' Hair Salons', 'Mesa'), 135),\n",
       " ((' Home & Garden', 'Madison'), 135),\n",
       " ((' Bakeries', 'Calgary'), 135),\n",
       " ((' Waxing', 'Charlotte'), 135),\n",
       " ((' Movers', 'Phoenix'), 135),\n",
       " ((' Beer', 'Charlotte'), 135),\n",
       " ((' Seafood', 'Phoenix'), 134),\n",
       " ((' Home Cleaning', 'Phoenix'), 134),\n",
       " ((' Sandwiches', 'Madison'), 134),\n",
       " (('Food', 'Henderson'), 134),\n",
       " (('Canadian (New)', 'Toronto'), 134),\n",
       " ((' Home & Garden', 'Tempe'), 134),\n",
       " ((' Hair Salons', 'Chandler'), 134),\n",
       " ((' Electronics', 'Phoenix'), 134),\n",
       " (('Nightlife', 'Calgary'), 134),\n",
       " ((' Restaurants', 'Lakewood'), 134),\n",
       " ((' Auto Repair', 'Toronto'), 134),\n",
       " ((' Auto Repair', 'Pittsburgh'), 133),\n",
       " ((' Japanese', 'Montréal'), 133),\n",
       " ((' Hair Removal', 'Calgary'), 133),\n",
       " ((' Sushi Bars', 'Montréal'), 133),\n",
       " ((\" Women's Clothing\", 'Charlotte'), 132),\n",
       " (('Beauty & Spas', 'Tempe'), 132),\n",
       " ((' Massage Therapy', 'Phoenix'), 132),\n",
       " (('Event Planning & Services', 'Charlotte'), 132),\n",
       " ((' Gyms', 'Toronto'), 132),\n",
       " ((' French', 'Toronto'), 132),\n",
       " (('Hair Salons', 'Scottsdale'), 131),\n",
       " (('Automotive', 'Tempe'), 131),\n",
       " ((' Hotels', 'Toronto'), 131),\n",
       " (('Nightlife', 'Charlotte'), 131),\n",
       " ((' Grocery', 'Calgary'), 131),\n",
       " ((' Desserts', 'Charlotte'), 131),\n",
       " ((' Mexican', 'Mesa'), 131),\n",
       " (('Burgers', 'Toronto'), 131),\n",
       " ((' Caterers', 'Charlotte'), 131),\n",
       " ((' Wine & Spirits', 'Calgary'), 131),\n",
       " ((' Building Supplies', 'Phoenix'), 130),\n",
       " (('Bars', 'Pittsburgh'), 130),\n",
       " ((' Specialty Schools', 'Toronto'), 130),\n",
       " ((' Gyms', 'Scottsdale'), 130),\n",
       " (('Pizza', 'Phoenix'), 130),\n",
       " ((' Vietnamese', 'Toronto'), 130),\n",
       " ((' Chiropractors', 'Las Vegas'), 130),\n",
       " ((' Electronics Repair', 'Las Vegas'), 130),\n",
       " ((' Cafes', 'Calgary'), 130),\n",
       " (('Real Estate', 'Scottsdale'), 130),\n",
       " ((' Pizza', 'Cleveland'), 130),\n",
       " (('Desserts', 'Toronto'), 129),\n",
       " ((' Self Storage', 'Las Vegas'), 129),\n",
       " (('Education', 'Las Vegas'), 129),\n",
       " ((' Banks & Credit Unions', 'Phoenix'), 129),\n",
       " (('Home Services', 'Pittsburgh'), 129),\n",
       " ((' Car Dealers', 'Phoenix'), 129),\n",
       " ((' Day Spas', 'Phoenix'), 129),\n",
       " ((' Music Venues', 'Toronto'), 129),\n",
       " ((' Local Services', 'Peoria'), 129),\n",
       " ((' Fitness & Instruction', 'Pittsburgh'), 129),\n",
       " ((' Hair Removal', 'Henderson'), 128),\n",
       " ((' Pets', 'Calgary'), 128),\n",
       " ((' Fitness & Instruction', 'Chandler'), 128),\n",
       " ((' Optometrists', 'Las Vegas'), 128),\n",
       " ((' Nightlife', 'Chandler'), 128),\n",
       " (('Fast Food', 'Toronto'), 128),\n",
       " ((' Shopping', 'Goodyear'), 128),\n",
       " ((' Italian', 'Charlotte'), 127),\n",
       " ((' Art Galleries', 'Las Vegas'), 127),\n",
       " (('Contractors', 'Las Vegas'), 127),\n",
       " ((' Halal', 'Toronto'), 127),\n",
       " (('Real Estate', 'Charlotte'), 127),\n",
       " (('Burgers', 'Las Vegas'), 127),\n",
       " ((' Shoe Stores', 'Toronto'), 127),\n",
       " ((' Massage Therapy', 'Scottsdale'), 127),\n",
       " (('Automotive', 'Pittsburgh'), 127),\n",
       " ((' Real Estate Services', 'Scottsdale'), 126),\n",
       " ((' Fast Food', 'Cleveland'), 126),\n",
       " (('Coffee & Tea', 'Calgary'), 126),\n",
       " ((' American (New)', 'Madison'), 126),\n",
       " ((' Restaurants', 'Oakville'), 126),\n",
       " ((' Sports Bars', 'Phoenix'), 126),\n",
       " ((' Restaurants', 'Newmarket'), 126),\n",
       " ((' Real Estate Agents', 'Scottsdale'), 125),\n",
       " ((' Department Stores', 'Phoenix'), 125),\n",
       " ((' Sandwiches', 'Tempe'), 125),\n",
       " (('Contractors', 'Phoenix'), 125),\n",
       " ((' Real Estate', 'Pittsburgh'), 124),\n",
       " ((' Eyelash Service', 'Scottsdale'), 124),\n",
       " ((' Dentists', 'Toronto'), 124),\n",
       " ((' Italian', 'Scottsdale'), 124),\n",
       " ((' Cosmetic Dentists', 'Charlotte'), 124),\n",
       " (('Bars', 'Montréal'), 124),\n",
       " ((' Auto Glass Services', 'Las Vegas'), 124),\n",
       " ((' Doctors', 'Tempe'), 124),\n",
       " ((' Pet Groomers', 'Phoenix'), 124),\n",
       " (('Health & Medical', 'Glendale'), 123),\n",
       " ((' Books', 'Las Vegas'), 123),\n",
       " ((' Desserts', 'Montréal'), 123),\n",
       " ((' Fashion', 'Henderson'), 123),\n",
       " (('Food', 'Markham'), 123),\n",
       " ((' Barbers', 'Toronto'), 123),\n",
       " ((' Dentists', 'Mesa'), 123),\n",
       " ((' Pet Services', 'Charlotte'), 123),\n",
       " ((' Dry Cleaning & Laundry', 'Las Vegas'), 123),\n",
       " ((' Fast Food', 'Tempe'), 123),\n",
       " ((' Furniture Stores', 'Toronto'), 122),\n",
       " ((' Wine Bars', 'Toronto'), 122),\n",
       " ((' Family Practice', 'Las Vegas'), 122),\n",
       " ((' Restaurants', 'Huntersville'), 122),\n",
       " ((' Weight Loss Centers', 'Las Vegas'), 122),\n",
       " ((' Restaurants', 'Thornhill'), 122),\n",
       " ((' Flowers & Gifts', 'Charlotte'), 122),\n",
       " ((' Hawaiian', 'Las Vegas'), 122),\n",
       " ((' Vietnamese', 'Calgary'), 122),\n",
       " (('Active Life', 'Scottsdale'), 121),\n",
       " ((' Vegetarian', 'Las Vegas'), 121),\n",
       " ((' Food', 'Concord'), 121),\n",
       " (('Health & Medical', 'Pittsburgh'), 121),\n",
       " ((' Home Services', 'Champaign'), 121),\n",
       " ((' Auto Repair', 'Henderson'), 121),\n",
       " (('Pizza', 'Calgary'), 121),\n",
       " ((' Hotels', 'Charlotte'), 121),\n",
       " ((' Fast Food', 'Mississauga'), 121),\n",
       " ((' Acupuncture', 'Toronto'), 121),\n",
       " ((' Home & Garden', 'Gilbert'), 120),\n",
       " ((' Medical Centers', 'Toronto'), 120),\n",
       " ((' Oral Surgeons', 'Las Vegas'), 120),\n",
       " ((' Hair Salons', 'Tempe'), 120),\n",
       " ((' Arts & Entertainment', 'Tempe'), 119),\n",
       " (('Food', 'Chandler'), 119),\n",
       " ((' Accessories', 'Phoenix'), 119),\n",
       " ((' Chiropractors', 'Phoenix'), 119),\n",
       " ((' Jewelry', 'Phoenix'), 119),\n",
       " ((' Eyelash Service', 'Phoenix'), 119),\n",
       " ((' Wine & Spirits', 'Pittsburgh'), 119),\n",
       " (('Health & Medical', 'Calgary'), 119),\n",
       " ((' Tanning', 'Las Vegas'), 119),\n",
       " (('Fashion', 'Phoenix'), 119),\n",
       " ((' Fast Food', 'Scottsdale'), 118),\n",
       " ((' Thai', 'Las Vegas'), 118),\n",
       " (('Shopping', 'Gilbert'), 118),\n",
       " ((' Flooring', 'Phoenix'), 118),\n",
       " (('Nail Salons', 'Phoenix'), 118),\n",
       " ((' Shipping Centers', 'Las Vegas'), 118),\n",
       " ((' Sports Bars', 'Toronto'), 118),\n",
       " ((' Skin Care', 'Henderson'), 118),\n",
       " ((' Printing Services', 'Phoenix'), 118),\n",
       " ((' Fashion', 'Glendale'), 117),\n",
       " ((' Specialty Food', 'Scottsdale'), 117),\n",
       " ((' Home & Garden', 'Henderson'), 117),\n",
       " ((' Hotels', 'Montréal'), 117),\n",
       " (('Sushi Bars', 'Toronto'), 117),\n",
       " ((' Coffee & Tea', 'Tempe'), 117),\n",
       " (('Fitness & Instruction', 'Las Vegas'), 117),\n",
       " ((' Beauty & Spas', 'Markham'), 117),\n",
       " ((' Automotive', 'Mississauga'), 117),\n",
       " (('Bars', 'Phoenix'), 117),\n",
       " (('Restaurants', 'Concord'), 116),\n",
       " ((' Fast Food', 'Henderson'), 116),\n",
       " (('Bars', 'Charlotte'), 116),\n",
       " ((' Sports Bars', 'Charlotte'), 116),\n",
       " ((' Nightlife', 'Glendale'), 116),\n",
       " ((' Caribbean', 'Toronto'), 116),\n",
       " ((' Transportation', 'Phoenix'), 116),\n",
       " ((' Hotels & Travel', 'Cleveland'), 116),\n",
       " (('Indian', 'Toronto'), 116),\n",
       " (('Local Services', 'Henderson'), 116),\n",
       " (('Thai', 'Toronto'), 116),\n",
       " ((' Specialty Food', 'Cleveland'), 116),\n",
       " ((' Salad', 'Pittsburgh'), 115),\n",
       " ((' Delis', 'Charlotte'), 115),\n",
       " (('French', 'Montréal'), 115),\n",
       " ((' Japanese', 'Calgary'), 115),\n",
       " ((' Yoga', 'Toronto'), 115),\n",
       " ((' Vape Shops', 'Las Vegas'), 115),\n",
       " (('Skin Care', 'Las Vegas'), 115),\n",
       " ...]"
      ]
     },
     "execution_count": 18,
     "metadata": {},
     "output_type": "execute_result"
    }
   ],
   "source": [
    "yelp_business_map_sorted.collect()"
   ]
  },
  {
   "cell_type": "code",
   "execution_count": 21,
   "metadata": {},
   "outputs": [
    {
     "data": {
      "image/png": "[encoded data removed]",
      "text/plain": [
       "<Figure size 1080x720 with 1 Axes>"
      ]
     },
     "metadata": {
      "needs_background": "light"
     },
     "output_type": "display_data"
    }
   ],
   "source": [
    "import matplotlib.pyplot as plt\n",
    "#yelp_business_map_sorted.take(30).plot(kind = 'bar')\n",
    "y1=yelp_business_map_sorted.collect()[:30]\n",
    "type(y1)\n",
    "plt.figure(figsize=(15,10))\n",
    "plt.bar(range(len(y1)), [val[1] for val in y1], align='center')\n",
    "plt.xticks(range(len(y1)), [val[0] for val in y1])\n",
    "plt.xticks(rotation=70)\n",
    "plt.show()"
   ]
  },
  {
   "cell_type": "code",
   "execution_count": 20,
   "metadata": {},
   "outputs": [],
   "source": [
    "yelp_review_lasVegas = yelp_review_join.filter( yelp_review_join.city == 'Las Vegas').filter( yelp_review_join.categories.contains('Restaurant'))"
   ]
  },
  {
   "cell_type": "code",
   "execution_count": 22,
   "metadata": {},
   "outputs": [],
   "source": [
    "yelp_review_Toronto = yelp_review_join.filter( yelp_review_join.city == 'Toronto').filter( yelp_review_join.categories.contains('Restaurant'))"
   ]
  },
  {
   "cell_type": "code",
   "execution_count": 23,
   "metadata": {},
   "outputs": [],
   "source": [
    "cols = ['user_id', 'business_id', 'stars']\n",
    "def get_clean_df(df, min_user_review = 30, min_res_review = 0):\n",
    "    df_1 = df.select(cols)\n",
    "    df_1 = df_1.na.drop()\n",
    "\n",
    "#df_1 = df_1.withColumn(cols[1]+'_freq', df_1.groupby(cols[1])[cols[1]].transform('count'))\n",
    "    df_2 =df_1.groupby(cols[1]).count();\n",
    "    df_2 = df_2.select('business_id', col('count').alias(\"business_id_freq\"))\n",
    "    df_3 =df_1.join(df_2, df_2.business_id == df_1.business_id, 'outer').drop(df_2.business_id)\n",
    "    df_4 = df_3.filter(df_3.business_id_freq >= min_res_review)\n",
    "    df_5 =df_4.groupby(cols[0]).count();\n",
    "    df_5 = df_5.select('user_id', col('count').alias(\"user_id_freq\"))\n",
    "    df_6 =df_4.join(df_5, df_5.user_id == df_4.user_id, 'outer').drop(df_4.user_id)\n",
    "    df_7 = df_6.filter(df_6.user_id_freq >= min_user_review)\n",
    "    return df_7"
   ]
  },
  {
   "cell_type": "code",
   "execution_count": 24,
   "metadata": {},
   "outputs": [],
   "source": [
    "clean_LV_data = get_clean_df(yelp_review_lasVegas)\n",
    "clean_toronto_data = get_clean_df(yelp_review_Toronto)"
   ]
  },
  {
   "cell_type": "code",
   "execution_count": 25,
   "metadata": {},
   "outputs": [],
   "source": [
    "#Converts the Data Frame into sparse matrix\n",
    "import numpy as np\n",
    "import scipy as sp\n",
    "from scipy.sparse import csr_matrix\n",
    "def toSparseMatrix(dataframe):\n",
    "    df = dataframe.select(\"*\").toPandas()\n",
    "    distinct_business_ids = list(df['business_id'].unique())\n",
    "    distinct_user_ids = list(df['user_id'].unique())\n",
    "    data = df['stars'].tolist()\n",
    "    row = df['user_id'].astype('category', categories=distinct_user_ids).cat.codes\n",
    "    col = df['business_id'].astype('category', categories=distinct_business_ids).cat.codes\n",
    "    sparse_matrix = csr_matrix((data, (row, col)), shape=(len(distinct_user_ids), len(distinct_business_ids)))\n",
    "    return sparse_matrix"
   ]
  },
  {
   "cell_type": "code",
   "execution_count": 26,
   "metadata": {},
   "outputs": [
    {
     "name": "stderr",
     "output_type": "stream",
     "text": [
      "/Users/sindhuram/anaconda3/lib/python3.7/site-packages/ipykernel_launcher.py:1: FutureWarning: specifying 'categories' or 'ordered' in .astype() is deprecated; pass a CategoricalDtype instead\n",
      "  \"\"\"Entry point for launching an IPython kernel.\n"
     ]
    }
   ],
   "source": [
    "toronto_matrix_30 = toSparseMatrix(clean_toronto_data)"
   ]
  },
  {
   "cell_type": "code",
   "execution_count": 27,
   "metadata": {},
   "outputs": [],
   "source": [
    "clean_toronto_data_20 = get_clean_df(yelp_review_Toronto,20)"
   ]
  },
  {
   "cell_type": "code",
   "execution_count": 28,
   "metadata": {},
   "outputs": [],
   "source": [
    "clean_toronto_data_10 = get_clean_df(yelp_review_Toronto,10)"
   ]
  },
  {
   "cell_type": "code",
   "execution_count": 29,
   "metadata": {},
   "outputs": [],
   "source": [
    "clean_toronto_data_5 = get_clean_df(yelp_review_Toronto,5)"
   ]
  },
  {
   "cell_type": "code",
   "execution_count": 30,
   "metadata": {},
   "outputs": [
    {
     "name": "stderr",
     "output_type": "stream",
     "text": [
      "/Users/sindhuram/anaconda3/lib/python3.7/site-packages/ipykernel_launcher.py:1: FutureWarning: specifying 'categories' or 'ordered' in .astype() is deprecated; pass a CategoricalDtype instead\n",
      "  \"\"\"Entry point for launching an IPython kernel.\n"
     ]
    }
   ],
   "source": [
    "toronto_matrix_20 = toSparseMatrix(clean_toronto_data_20)"
   ]
  },
  {
   "cell_type": "code",
   "execution_count": 31,
   "metadata": {},
   "outputs": [
    {
     "name": "stderr",
     "output_type": "stream",
     "text": [
      "/Users/sindhuram/anaconda3/lib/python3.7/site-packages/ipykernel_launcher.py:1: FutureWarning: specifying 'categories' or 'ordered' in .astype() is deprecated; pass a CategoricalDtype instead\n",
      "  \"\"\"Entry point for launching an IPython kernel.\n"
     ]
    }
   ],
   "source": [
    "toronto_matrix_10 = toSparseMatrix(clean_toronto_data_10)"
   ]
  },
  {
   "cell_type": "code",
   "execution_count": 32,
   "metadata": {},
   "outputs": [
    {
     "name": "stderr",
     "output_type": "stream",
     "text": [
      "/Users/sindhuram/anaconda3/lib/python3.7/site-packages/ipykernel_launcher.py:1: FutureWarning: specifying 'categories' or 'ordered' in .astype() is deprecated; pass a CategoricalDtype instead\n",
      "  \"\"\"Entry point for launching an IPython kernel.\n"
     ]
    }
   ],
   "source": [
    "toronto_matrix_5 = toSparseMatrix(clean_toronto_data_5)"
   ]
  },
  {
   "cell_type": "code",
   "execution_count": 33,
   "metadata": {},
   "outputs": [],
   "source": [
    "def getSparsity(sparse_matrix):\n",
    "    return 1 - sparse_matrix.nnz/(sparse_matrix.shape[0]*sparse_matrix.shape[1])"
   ]
  },
  {
   "cell_type": "markdown",
   "metadata": {},
   "source": [
    "## Optimal data count using sparse matrix based on number of user review count for a restaurants"
   ]
  },
  {
   "cell_type": "code",
   "execution_count": 34,
   "metadata": {},
   "outputs": [
    {
     "name": "stdout",
     "output_type": "stream",
     "text": [
      "(1899, 7491)\n",
      "(3076, 7649)\n",
      "(6983, 7834)\n",
      "(15600, 7914)\n"
     ]
    }
   ],
   "source": [
    "print(toronto_matrix_30.shape)\n",
    "print(toronto_matrix_20.shape)\n",
    "print(toronto_matrix_10.shape)\n",
    "print(toronto_matrix_5.shape)"
   ]
  },
  {
   "cell_type": "code",
   "execution_count": 35,
   "metadata": {},
   "outputs": [],
   "source": [
    "clean_LV_data_10 = get_clean_df(yelp_review_lasVegas,10)"
   ]
  },
  {
   "cell_type": "code",
   "execution_count": 36,
   "metadata": {},
   "outputs": [
    {
     "name": "stderr",
     "output_type": "stream",
     "text": [
      "/Users/sindhuram/anaconda3/lib/python3.7/site-packages/ipykernel_launcher.py:1: FutureWarning: specifying 'categories' or 'ordered' in .astype() is deprecated; pass a CategoricalDtype instead\n",
      "  \"\"\"Entry point for launching an IPython kernel.\n"
     ]
    }
   ],
   "source": [
    "lV_matrix_10 = toSparseMatrix(clean_LV_data_10)"
   ]
  },
  {
   "cell_type": "markdown",
   "metadata": {},
   "source": [
    "## Sparse matrix with user review count 10, to split data for training and testing"
   ]
  },
  {
   "cell_type": "code",
   "execution_count": 37,
   "metadata": {},
   "outputs": [],
   "source": [
    "def train_val_test_split(sparse_matrix, num_review_val = 2, num_review_test = 2):\n",
    "    #Split the rating matrix into train ,val, and test marix that are disjoint matrices\n",
    "    nzrows, nzcols =  sparse_matrix.nonzero()\n",
    "    sparse_matrix_test = csr_matrix(sparse_matrix.shape)\n",
    "    sparse_matrix_val = csr_matrix(sparse_matrix.shape)\n",
    "    sparse_matrix_train = sparse_matrix.copy()\n",
    "    n_users = sparse_matrix.shape[0]\n",
    "    for u in range(n_users):\n",
    "        idx = nzcols[np.where(nzrows == u)]\n",
    "        np.random.shuffle(idx)\n",
    "        test_idx = idx[-num_review_test:]\n",
    "        val_idx = idx[-(num_review_val+num_review_test):-num_review_test]\n",
    "        train_idx = idx[:-(num_review_val+num_review_test)]\n",
    "        sparse_matrix_test[u,test_idx] = sparse_matrix[u,test_idx]\n",
    "        sparse_matrix_val[u,val_idx] = sparse_matrix[u,val_idx]\n",
    "        sparse_matrix_train[u,test_idx] = 0\n",
    "        sparse_matrix_train[u,val_idx] = 0\n",
    "    data = np.array(sparse_matrix_train[sparse_matrix_train.nonzero()])[0]\n",
    "    row = sparse_matrix_train.nonzero()[0]\n",
    "    col = sparse_matrix_train.nonzero()[1]\n",
    "    size = sparse_matrix_train.shape\n",
    "    sparse_matrix_train = csr_matrix((data,(row,col)),shape = size)\n",
    "    mult = sparse_matrix_train.multiply(sparse_matrix_val)\n",
    "    mmult = mult.multiply(sparse_matrix_test)\n",
    "    assert(mmult.nnz == 0)\n",
    "    return sparse_matrix_train, sparse_matrix_val, sparse_matrix_test"
   ]
  },
  {
   "cell_type": "code",
   "execution_count": 38,
   "metadata": {},
   "outputs": [
    {
     "name": "stderr",
     "output_type": "stream",
     "text": [
      "/Users/sindhuram/anaconda3/lib/python3.7/site-packages/scipy/sparse/_index.py:103: SparseEfficiencyWarning: Changing the sparsity structure of a csr_matrix is expensive. lil_matrix is more efficient.\n",
      "  self._set_arrayXarray_sparse(i, j, x)\n",
      "/Users/sindhuram/anaconda3/lib/python3.7/site-packages/scipy/sparse/_index.py:103: SparseEfficiencyWarning: Changing the sparsity structure of a csr_matrix is expensive. lil_matrix is more efficient.\n",
      "  self._set_arrayXarray_sparse(i, j, x)\n"
     ]
    }
   ],
   "source": [
    "toronto_train_10, toronto_val_10, toronto_test_10 = train_val_test_split(toronto_matrix_10)\n",
    "vegas_train_10, vegas_val_10, vegas_test_10 =  train_val_test_split(lV_matrix_10)"
   ]
  },
  {
   "cell_type": "markdown",
   "metadata": {},
   "source": [
    "## Training data for Toronto"
   ]
  },
  {
   "cell_type": "code",
   "execution_count": 39,
   "metadata": {},
   "outputs": [
    {
     "name": "stdout",
     "output_type": "stream",
     "text": [
      "169756 13966 13966\n"
     ]
    }
   ],
   "source": [
    "print(toronto_train_10.nnz, toronto_val_10.nnz, toronto_test_10.nnz)"
   ]
  },
  {
   "cell_type": "markdown",
   "metadata": {},
   "source": [
    "## Training data for Las Vegas"
   ]
  },
  {
   "cell_type": "code",
   "execution_count": 40,
   "metadata": {},
   "outputs": [
    {
     "name": "stdout",
     "output_type": "stream",
     "text": [
      "350133 37661 37667\n"
     ]
    }
   ],
   "source": [
    "print(vegas_train_10.nnz, vegas_val_10.nnz, vegas_test_10.nnz)"
   ]
  },
  {
   "cell_type": "markdown",
   "metadata": {},
   "source": [
    "# SVD Model Building"
   ]
  },
  {
   "cell_type": "markdown",
   "metadata": {},
   "source": [
    "## For Toronto"
   ]
  },
  {
   "cell_type": "code",
   "execution_count": 41,
   "metadata": {},
   "outputs": [],
   "source": [
    "import numpy as np\n",
    "U_matrix_toronto, S_matrix_toronto, Vt_matrix_ptoronto = np.linalg.svd(toronto_train_10.todense())"
   ]
  },
  {
   "cell_type": "code",
   "execution_count": 42,
   "metadata": {},
   "outputs": [
    {
     "name": "stdout",
     "output_type": "stream",
     "text": [
      "Minimum singular value =  0.03352449677826716\n",
      "Maximum singular value =  305.814393654753\n",
      "(6983,)\n"
     ]
    }
   ],
   "source": [
    "print(\"Minimum singular value = \",min(S_matrix_toronto))\n",
    "print(\"Maximum singular value = \",max(S_matrix_toronto))\n",
    "S_matrix_toronto_diagonal = np.diag(S_matrix_toronto)\n",
    "print(S_matrix_toronto.shape)"
   ]
  },
  {
   "cell_type": "code",
   "execution_count": 43,
   "metadata": {},
   "outputs": [
    {
     "data": {
      "image/png": "[encoded data removed]",
      "text/plain": [
       "<Figure size 576x360 with 1 Axes>"
      ]
     },
     "metadata": {
      "needs_background": "light"
     },
     "output_type": "display_data"
    }
   ],
   "source": [
    "fig = plt.figure(figsize=(8,5))\n",
    "plt.plot(S_matrix_toronto[:20], '-', linewidth=1)\n",
    "plt.title('Elbow Plot')\n",
    "# plt.xticks(np.arange(0, S_phx_res.shape[0]+1, 50), rotation='vertical')\n",
    "plt.xlabel('Principal Component')\n",
    "plt.ylabel('Singular Values')\n",
    "plt.show()"
   ]
  },
  {
   "cell_type": "markdown",
   "metadata": {},
   "source": [
    "## For Las Vegas"
   ]
  },
  {
   "cell_type": "code",
   "execution_count": 44,
   "metadata": {},
   "outputs": [],
   "source": [
    "U_matrix_lasVegas, S_matrix_lasVegas, Vt_matrix_lasVegas = np.linalg.svd(vegas_train_10.todense())"
   ]
  },
  {
   "cell_type": "code",
   "execution_count": 45,
   "metadata": {},
   "outputs": [
    {
     "name": "stdout",
     "output_type": "stream",
     "text": [
      "Minimum singular value =  1.2130505729602678e-15\n",
      "Maximum singular value =  488.16617738273175\n"
     ]
    }
   ],
   "source": [
    "print(\"Minimum singular value = \",min(S_matrix_lasVegas))\n",
    "print(\"Maximum singular value = \",max(S_matrix_lasVegas))\n",
    "S_matrix_lasVegas_diagonal = np.diag(S_matrix_lasVegas)"
   ]
  },
  {
   "cell_type": "code",
   "execution_count": 46,
   "metadata": {},
   "outputs": [
    {
     "data": {
      "image/png": "[encoded data removed]",
      "text/plain": [
       "<Figure size 576x360 with 1 Axes>"
      ]
     },
     "metadata": {
      "needs_background": "light"
     },
     "output_type": "display_data"
    }
   ],
   "source": [
    "fig = plt.figure(figsize=(8,5))\n",
    "plt.plot(S_matrix_lasVegas[:20], '-', linewidth=1)\n",
    "plt.title('Elbow Plot')\n",
    "plt.xlabel('Principal Component')\n",
    "plt.ylabel('Singular Values')\n",
    "plt.show()"
   ]
  },
  {
   "cell_type": "code",
   "execution_count": 47,
   "metadata": {},
   "outputs": [],
   "source": [
    "def MSE_err(k, A, U, S, Vt):\n",
    "    mat_inter = np.dot(S[:k, :k], Vt[:k, :])\n",
    "    mat_A = np.dot(U[:, :k], mat_inter)\n",
    "    index = np.where(A>0);\n",
    "    diff = A[index] - mat_A[index]\n",
    "    return np.linalg.norm(diff)**2/diff.shape[1]"
   ]
  },
  {
   "cell_type": "markdown",
   "metadata": {},
   "source": [
    "## MSE For Toronto"
   ]
  },
  {
   "cell_type": "code",
   "execution_count": 48,
   "metadata": {},
   "outputs": [
    {
     "name": "stdout",
     "output_type": "stream",
     "text": [
      "dict_keys([2, 4, 6, 8, 10, 12, 14, 16, 18, 20, 22, 24, 26, 28, 30, 32, 34, 36, 38, 40])\n"
     ]
    },
    {
     "data": {
      "text/plain": [
       "<matplotlib.legend.Legend at 0x11818edd8>"
      ]
     },
     "execution_count": 48,
     "metadata": {},
     "output_type": "execute_result"
    },
    {
     "data": {
      "image/png": "[encoded data removed]",
      "text/plain": [
       "<Figure size 432x288 with 1 Axes>"
      ]
     },
     "metadata": {
      "needs_background": "light"
     },
     "output_type": "display_data"
    }
   ],
   "source": [
    "k = np.linspace(2,40,20, dtype = int)\n",
    "errors_svd_val = {}\n",
    "errors_svd_train = {}\n",
    "for i in k:\n",
    "    errors_svd_val[i] = MSE_err(i, toronto_val_10.todense(), U_matrix_toronto, S_matrix_toronto_diagonal, Vt_matrix_ptoronto)\n",
    "    errors_svd_train[i] = MSE_err(i, toronto_train_10.todense(), U_matrix_toronto, S_matrix_toronto_diagonal, Vt_matrix_ptoronto)\n",
    "print(errors_svd_val.keys())\n",
    "plt.plot(list(errors_svd_val.keys()),list(errors_svd_val.values()), label = 'Validation')\n",
    "plt.plot(list(errors_svd_train.keys()),list(errors_svd_train.values()), label = 'Train')\n",
    "plt.xlabel('k')\n",
    "plt.ylabel('MSE')\n",
    "plt.legend()"
   ]
  },
  {
   "cell_type": "code",
   "execution_count": 49,
   "metadata": {},
   "outputs": [
    {
     "data": {
      "text/plain": [
       "<matplotlib.legend.Legend at 0x118031780>"
      ]
     },
     "execution_count": 49,
     "metadata": {},
     "output_type": "execute_result"
    },
    {
     "data": {
      "image/png": "[encoded data removed]",
      "text/plain": [
       "<Figure size 432x288 with 1 Axes>"
      ]
     },
     "metadata": {
      "needs_background": "light"
     },
     "output_type": "display_data"
    }
   ],
   "source": [
    "plt.plot(list(errors_svd_val.keys()),list(errors_svd_val.values()), label = 'Validation')\n",
    "plt.xlabel('k')\n",
    "plt.ylabel('MSE')\n",
    "plt.legend()\n",
    "plt.legend()"
   ]
  },
  {
   "cell_type": "code",
   "execution_count": 50,
   "metadata": {},
   "outputs": [
    {
     "name": "stdout",
     "output_type": "stream",
     "text": [
      "Mean Squared Error for restaurants in Toronto =  15.398323671546413\n"
     ]
    }
   ],
   "source": [
    "Best_Val_MSE_SVD_toronto = MSE_err(32, toronto_val_10.todense(), U_matrix_toronto, S_matrix_toronto_diagonal, Vt_matrix_ptoronto)\n",
    "print('Mean Squared Error for restaurants in Toronto = ', Best_Val_MSE_SVD_toronto)"
   ]
  },
  {
   "cell_type": "code",
   "execution_count": 51,
   "metadata": {},
   "outputs": [],
   "source": [
    "train_toronto_nnz = toronto_train_10.nonzero()\n",
    "val_toronto_nnz = toronto_val_10.nonzero()\n",
    "test_toronto_nnz = toronto_test_10.nonzero()"
   ]
  },
  {
   "cell_type": "code",
   "execution_count": 52,
   "metadata": {},
   "outputs": [],
   "source": [
    "recon_matrix_svd_toronto = np.dot(U_matrix_toronto[:, :10], np.dot(S_matrix_toronto_diagonal[:10,:10], Vt_matrix_ptoronto[:10, :]))\n",
    "train_preds_svd_toronto = np.ravel(recon_matrix_svd_toronto[train_toronto_nnz])\n",
    "val_preds_svd_toronto = np.ravel(recon_matrix_svd_toronto[val_toronto_nnz])\n",
    "test_preds_svd_toronto = np.ravel(recon_matrix_svd_toronto[test_toronto_nnz])"
   ]
  },
  {
   "cell_type": "markdown",
   "metadata": {},
   "source": [
    "## MSE for Las Vegas"
   ]
  },
  {
   "cell_type": "code",
   "execution_count": 53,
   "metadata": {},
   "outputs": [
    {
     "data": {
      "text/plain": [
       "<matplotlib.legend.Legend at 0x11825ea90>"
      ]
     },
     "execution_count": 53,
     "metadata": {},
     "output_type": "execute_result"
    },
    {
     "data": {
      "image/png": "[encoded data removed]",
      "text/plain": [
       "<Figure size 432x288 with 1 Axes>"
      ]
     },
     "metadata": {
      "needs_background": "light"
     },
     "output_type": "display_data"
    }
   ],
   "source": [
    "k = np.linspace(2,40,20, dtype = int)\n",
    "errors_svd_val_lv = {}\n",
    "errors_svd_train_lv = {}\n",
    "for i in k:\n",
    "    errors_svd_val_lv[i] = MSE_err(i, vegas_val_10.todense(), U_matrix_lasVegas, S_matrix_lasVegas_diagonal, Vt_matrix_lasVegas)\n",
    "    errors_svd_train_lv[i] = MSE_err(i, vegas_train_10.todense(), U_matrix_lasVegas, S_matrix_lasVegas_diagonal, Vt_matrix_lasVegas)\n",
    "\n",
    "plt.plot(list(errors_svd_val_lv.keys()),list(errors_svd_val_lv.values()), label = 'Validation')\n",
    "plt.plot(list(errors_svd_train_lv.keys()),list(errors_svd_train_lv.values()), label = 'Train')\n",
    "plt.legend()"
   ]
  },
  {
   "cell_type": "code",
   "execution_count": 54,
   "metadata": {},
   "outputs": [
    {
     "data": {
      "text/plain": [
       "[<matplotlib.lines.Line2D at 0x1182bee10>]"
      ]
     },
     "execution_count": 54,
     "metadata": {},
     "output_type": "execute_result"
    },
    {
     "data": {
      "image/png": "[encoded data removed]",
      "text/plain": [
       "<Figure size 432x288 with 1 Axes>"
      ]
     },
     "metadata": {
      "needs_background": "light"
     },
     "output_type": "display_data"
    }
   ],
   "source": [
    "plt.plot(list(errors_svd_val_lv.keys()),list(errors_svd_val_lv.values()), label = 'Validation')"
   ]
  },
  {
   "cell_type": "code",
   "execution_count": 55,
   "metadata": {},
   "outputs": [
    {
     "name": "stdout",
     "output_type": "stream",
     "text": [
      "Mean Squared Error for restaurants in Las Vegas =  18.038348506598606\n"
     ]
    }
   ],
   "source": [
    "Best_Val_MSE_SVD_lasvegas = MSE_err(26, vegas_val_10.todense(), U_matrix_lasVegas, S_matrix_lasVegas_diagonal, Vt_matrix_lasVegas)\n",
    "print('Mean Squared Error for restaurants in Las Vegas = ', Best_Val_MSE_SVD_lasvegas)"
   ]
  },
  {
   "cell_type": "code",
   "execution_count": 56,
   "metadata": {},
   "outputs": [],
   "source": [
    "train_lv_nnz = vegas_train_10.nonzero()\n",
    "val_lv_nnz = vegas_val_10.nonzero()\n",
    "test_lv_nnz = vegas_test_10.nonzero()"
   ]
  },
  {
   "cell_type": "code",
   "execution_count": 57,
   "metadata": {},
   "outputs": [],
   "source": [
    "recon_matrix_svd_lv = np.dot(U_matrix_lasVegas[:, :15], np.dot(S_matrix_lasVegas_diagonal[:15,:15], Vt_matrix_lasVegas[:15, :]))\n",
    "train_preds_svd_lv = np.ravel(recon_matrix_svd_lv[train_lv_nnz])\n",
    "val_preds_svd_lv = np.ravel(recon_matrix_svd_lv[val_lv_nnz])\n",
    "test_preds_svd_lv = np.ravel(recon_matrix_svd_lv[test_lv_nnz])\n",
    "\n"
   ]
  },
  {
   "cell_type": "markdown",
   "metadata": {},
   "source": [
    "# SVD with Bias"
   ]
  },
  {
   "cell_type": "code",
   "execution_count": 58,
   "metadata": {},
   "outputs": [
    {
     "name": "stdout",
     "output_type": "stream",
     "text": [
      "Minimum Singular Value =  4.6104955949437075e-14\n",
      "Maximum Singular Value =  43463.4080835893\n"
     ]
    }
   ],
   "source": [
    "overall_bias = np.sum(vegas_train_10)/vegas_train_10.nnz\n",
    "vegas_train_10_wo_bias = vegas_train_10.todense() - overall_bias\n",
    "U_vegas_wo_bias,S_vegas_wo_bias,Vt_vegas_wo_bias = np.linalg.svd(vegas_train_10_wo_bias)\n",
    "print(\"Minimum Singular Value = \", min(S_vegas_wo_bias))\n",
    "print(\"Maximum Singular Value = \", max(S_vegas_wo_bias))\n",
    "S_vegas_wo_bias_dia = np.diag(S_vegas_wo_bias)"
   ]
  },
  {
   "cell_type": "code",
   "execution_count": 59,
   "metadata": {},
   "outputs": [
    {
     "data": {
      "image/png": "[encoded data removed]",
      "text/plain": [
       "<Figure size 576x360 with 1 Axes>"
      ]
     },
     "metadata": {
      "needs_background": "light"
     },
     "output_type": "display_data"
    }
   ],
   "source": [
    "fig = plt.figure(figsize=(8,5))\n",
    "plt.semilogy(S_vegas_wo_bias[:1000], '-', linewidth=1)\n",
    "plt.title('Elbow Plot')\n",
    "plt.xlabel('Principal Component')\n",
    "plt.ylabel('Singular Values')\n",
    "plt.show()"
   ]
  },
  {
   "cell_type": "code",
   "execution_count": 60,
   "metadata": {},
   "outputs": [
    {
     "data": {
      "text/plain": [
       "[<matplotlib.lines.Line2D at 0x118440b70>]"
      ]
     },
     "execution_count": 60,
     "metadata": {},
     "output_type": "execute_result"
    },
    {
     "data": {
      "image/png": "[encoded data removed]",
      "text/plain": [
       "<Figure size 432x288 with 1 Axes>"
      ]
     },
     "metadata": {
      "needs_background": "light"
     },
     "output_type": "display_data"
    }
   ],
   "source": [
    "wo_bias_k = np.arange(1,20)\n",
    "wo_bias_svd_errors = {}\n",
    "vegas_val_10_wo_bias = vegas_val_10.todense() - overall_bias\n",
    "\n",
    "for i in wo_bias_k:\n",
    "    vegas_val_10_wo_bias_cal = np.dot(U_vegas_wo_bias[:, :i],np.dot(S_vegas_wo_bias_dia[:i,:i], Vt_vegas_wo_bias[:i, :]))\n",
    "    wo_bias_condition = np.where(vegas_val_10.todense() > 0)  \n",
    "    wo_bias_diff = vegas_val_10_wo_bias[wo_bias_condition] - vegas_val_10_wo_bias_cal[wo_bias_condition]\n",
    "    wo_bias_svd_errors[i] = np.linalg.norm(wo_bias_diff)**2/wo_bias_diff.shape[1]\n",
    "plt.plot(list(wo_bias_svd_errors.keys()),list(wo_bias_svd_errors.values()))\n",
    "                                      "
   ]
  },
  {
   "cell_type": "code",
   "execution_count": 61,
   "metadata": {},
   "outputs": [],
   "source": [
    "def getOverallUserBias(matrix):\n",
    "    dense = matrix.todense()\n",
    "    mask = (dense>0).astype(int)\n",
    "    u_bias = np.sum(dense, axis = 1)/np.sum(mask, axis = 1)\n",
    "    r_bias = np.sum(dense, axis = 0)/np.sum(mask, axis = 0)\n",
    "    u_bias = np.nan_to_num(u_bias)\n",
    "    r_bias = np.nan_to_num(r_bias)\n",
    "    u_bias = u_bias.reshape(-1,1)\n",
    "    r_bias = r_bias.reshape(1,-1)\n",
    "    matrix_wo_bias = dense - np.tile(u_bias, (1,dense.shape[1])) - np.tile(r_bias, (dense.shape[0], 1))\n",
    "    return u_bias, r_bias, matrix_wo_bias\n",
    "    "
   ]
  },
  {
   "cell_type": "markdown",
   "metadata": {},
   "source": [
    "# For Restaurant's in Las Vegas"
   ]
  },
  {
   "cell_type": "code",
   "execution_count": 62,
   "metadata": {},
   "outputs": [
    {
     "name": "stderr",
     "output_type": "stream",
     "text": [
      "/Users/sindhuram/anaconda3/lib/python3.7/site-packages/ipykernel_launcher.py:4: RuntimeWarning: divide by zero encountered in true_divide\n",
      "  after removing the cwd from sys.path.\n",
      "/Users/sindhuram/anaconda3/lib/python3.7/site-packages/ipykernel_launcher.py:4: RuntimeWarning: invalid value encountered in true_divide\n",
      "  after removing the cwd from sys.path.\n",
      "/Users/sindhuram/anaconda3/lib/python3.7/site-packages/ipykernel_launcher.py:5: RuntimeWarning: invalid value encountered in true_divide\n",
      "  \"\"\"\n"
     ]
    }
   ],
   "source": [
    "u_bias_lv, r_bias_lv, train_lv = getOverallUserBias(vegas_train_10)"
   ]
  },
  {
   "cell_type": "code",
   "execution_count": 63,
   "metadata": {},
   "outputs": [
    {
     "name": "stdout",
     "output_type": "stream",
     "text": [
      "Minimum Singular Value =  9.559123230131612e-14\n",
      "Minimum Singular Value =  84323.34204572953\n"
     ]
    }
   ],
   "source": [
    "U_lv_wo_bias, S_lv_wo_bias, Vt_lv_wo_bias = np.linalg.svd(train_lv)\n",
    "print(\"Minimum Singular Value = \", min(S_lv_wo_bias))\n",
    "print(\"Minimum Singular Value = \", max(S_lv_wo_bias))\n",
    "S_lv_wo_bias_dia = np.diag(S_lv_wo_bias)"
   ]
  },
  {
   "cell_type": "code",
   "execution_count": 64,
   "metadata": {},
   "outputs": [
    {
     "data": {
      "image/png": "[encoded data removed]",
      "text/plain": [
       "<Figure size 576x360 with 1 Axes>"
      ]
     },
     "metadata": {
      "needs_background": "light"
     },
     "output_type": "display_data"
    }
   ],
   "source": [
    "fig = plt.figure(figsize=(8,5))\n",
    "plt.plot(S_lv_wo_bias[:20], '-', linewidth=1)\n",
    "plt.title('Elbow Plot')\n",
    "plt.xlabel('Principal Component')\n",
    "plt.ylabel('Singular Values')\n",
    "plt.show()"
   ]
  },
  {
   "cell_type": "code",
   "execution_count": 65,
   "metadata": {},
   "outputs": [
    {
     "data": {
      "text/plain": [
       "<matplotlib.legend.Legend at 0x118387198>"
      ]
     },
     "execution_count": 65,
     "metadata": {},
     "output_type": "execute_result"
    },
    {
     "data": {
      "image/png": "[encoded data removed]",
      "text/plain": [
       "<Figure size 432x288 with 1 Axes>"
      ]
     },
     "metadata": {
      "needs_background": "light"
     },
     "output_type": "display_data"
    }
   ],
   "source": [
    "wo_bias_k1 = np.linspace(2,40,20, dtype = int)\n",
    "wo_bias_svd_errors1 = {}\n",
    "vegas_val_10_wo_bias1 = vegas_val_10.todense() - r_bias_lv\n",
    "\n",
    "for i in wo_bias_k1:\n",
    "    vegas_val_10_wo_bias_cal1 = np.dot(U_lv_wo_bias[:, :i],np.dot(S_lv_wo_bias_dia[:i,:i], Vt_lv_wo_bias[:i, :]))\n",
    "    wo_bias_condition1 = np.where(vegas_val_10.todense() > 0)\n",
    "    wo_bias_diff1 = vegas_val_10_wo_bias1[wo_bias_condition1] - vegas_val_10_wo_bias_cal1[wo_bias_condition1]\n",
    "    wo_bias_svd_errors1[i] = np.linalg.norm(wo_bias_diff1)**2/wo_bias_diff1.shape[1]\n",
    "plt.plot(list(wo_bias_svd_errors1.keys()),list(wo_bias_svd_errors1.values()), label= 'Validation')\n",
    "plt.xlabel('PC')\n",
    "plt.ylabel('MSE')\n",
    "plt.legend()    "
   ]
  },
  {
   "cell_type": "markdown",
   "metadata": {},
   "source": [
    "# For Restaurant's Toronto Restaurants"
   ]
  },
  {
   "cell_type": "code",
   "execution_count": 66,
   "metadata": {},
   "outputs": [
    {
     "name": "stderr",
     "output_type": "stream",
     "text": [
      "/Users/sindhuram/anaconda3/lib/python3.7/site-packages/ipykernel_launcher.py:5: RuntimeWarning: invalid value encountered in true_divide\n",
      "  \"\"\"\n"
     ]
    }
   ],
   "source": [
    "u_bias_trt, r_bias_trt, train_trt = getOverallUserBias(toronto_train_10)"
   ]
  },
  {
   "cell_type": "code",
   "execution_count": 67,
   "metadata": {},
   "outputs": [
    {
     "name": "stdout",
     "output_type": "stream",
     "text": [
      "Minimum singular value =  0.03415694251536077\n",
      "largest singular value =  54531.73931333623\n"
     ]
    }
   ],
   "source": [
    "U_trt_wo_bias, S_trt_wo_bias, Vt_trt_wo_bias = np.linalg.svd(train_trt)\n",
    "print(\"Minimum singular value = \",min(S_trt_wo_bias))\n",
    "print(\"largest singular value = \",max(S_trt_wo_bias))\n",
    "S_trt_wo_bias_dia = np.diag(S_trt_wo_bias)"
   ]
  },
  {
   "cell_type": "code",
   "execution_count": 68,
   "metadata": {},
   "outputs": [
    {
     "data": {
      "text/plain": [
       "<matplotlib.legend.Legend at 0x1183ae2b0>"
      ]
     },
     "execution_count": 68,
     "metadata": {},
     "output_type": "execute_result"
    },
    {
     "data": {
      "image/png": "[encoded data removed]",
      "text/plain": [
       "<Figure size 432x288 with 1 Axes>"
      ]
     },
     "metadata": {
      "needs_background": "light"
     },
     "output_type": "display_data"
    }
   ],
   "source": [
    "wo_bias_k_trt = np.linspace(2,40,20, dtype = int)\n",
    "wo_bias_svd_errors_trt = {}\n",
    "trt_val_10_wo_bias = toronto_val_10.todense() - u_bias_trt - r_bias_trt\n",
    "\n",
    "for i in wo_bias_k_trt:\n",
    "    trt_val_10_wo_bias_cal = np.dot(U_trt_wo_bias[:, :i], np.dot(S_trt_wo_bias_dia[:i,:i], Vt_trt_wo_bias[:i, :]))\n",
    "    trt_wo_bias_condition = np.where(toronto_val_10.todense()>0)\n",
    "    trt_wo_bias_diff = trt_val_10_wo_bias[trt_wo_bias_condition] - trt_val_10_wo_bias_cal[trt_wo_bias_condition]\n",
    "    wo_bias_svd_errors_trt[i] = np.linalg.norm(trt_wo_bias_diff)**2/trt_wo_bias_diff.shape[1]\n",
    "plt.plot(list(wo_bias_svd_errors_trt.keys()),list(wo_bias_svd_errors_trt.values()), label = 'Validation')\n",
    "plt.xlabel('PC')\n",
    "plt.ylabel('MSE')\n",
    "plt.legend()\n",
    "    \n",
    "    "
   ]
  },
  {
   "cell_type": "markdown",
   "metadata": {},
   "source": [
    "# Cosine Similarity "
   ]
  },
  {
   "cell_type": "code",
   "execution_count": 69,
   "metadata": {},
   "outputs": [],
   "source": [
    "def get_sim_between_users(train_matrix,  between = 'users'):\n",
    "    '''Returns the cosine similarity between users or restaurants'''\n",
    "    if between == 'users':\n",
    "        similarity = train_matrix*train_matrix.transpose()\n",
    "    else:\n",
    "        similarity = train_matrix.transpose()*train_matrix\n",
    "    similarity_dense = similarity.todense() + 1e-8\n",
    "    norm_array = np.sqrt(np.diag(similarity_dense))\n",
    "    return similarity_dense/norm_array/norm_array.reshape(-1,1)"
   ]
  },
  {
   "cell_type": "code",
   "execution_count": 70,
   "metadata": {},
   "outputs": [],
   "source": [
    "from sklearn.metrics import mean_squared_error\n",
    "def mseCalculation(pred, actual):\n",
    "    pred = pred[actual.nonzero()].flatten()\n",
    "    actual = actual[actual.nonzero()].flatten()\n",
    "    return mean_squared_error(pred, actual)"
   ]
  },
  {
   "cell_type": "code",
   "execution_count": 71,
   "metadata": {},
   "outputs": [],
   "source": [
    "def get_sim_between_restaurants(trainmat):\n",
    "    '''Computes cosine similarity value between restaurants'''\n",
    "    sim_matrix = trainmat.transpose()*trainmat\n",
    "    sim_dense = sim_matrix.todense() + 1e-8\n",
    "    normalized_arr = np.sqrt(np.diag(sim_dense))\n",
    "    return sim_dense/normalized_arr/normalized_arr.reshape(-1,1)"
   ]
  },
  {
   "cell_type": "code",
   "execution_count": 72,
   "metadata": {},
   "outputs": [],
   "source": [
    "def predict_topk_nobias(ratings, similarity, kind='user', k=40):\n",
    "    pred = np.zeros(ratings.shape)\n",
    "    if kind == 'user':\n",
    "        user_bias = np.mean(ratings, axis =1)\n",
    "        ratings = (ratings - np.tile(user_bias, (ratings.shape[1],1)).T).copy()\n",
    "        for i in range(ratings.shape[0]):\n",
    "            top_k_users = np.argsort(similarity[:,i])[:-k-1:-1]\n",
    "            pred[i] = np.dot(similarity[i,top_k_users],ratings[top_k_users,:])/np.sum(np.abs(similarity[i,top_k_users]))\n",
    "        pred += np.tile(user_bias,(ratings.shape[1],1)).T\n",
    "    else:\n",
    "        item_bias = np.mean(ratings, axis=0)\n",
    "        ratings = (ratings - np.tile(item_bias,(ratings.shape[0],1))).copy()\n",
    "        for j in range(ratings.shape[1]):\n",
    "            top_k_items = np.argsort(similarity[:,j])[:-k-1:-1]\n",
    "            pred[:,j] = np.dot(similarity[top_k_items,j].T,ratings[:,top_k_items].T)/np.sum(np.abs(similarity[top_k_items,j]))\n",
    "        pred += np.tile(item_bias,(ratings.shape[0],1))\n",
    "        \n",
    "    return pred"
   ]
  },
  {
   "cell_type": "code",
   "execution_count": 74,
   "metadata": {},
   "outputs": [
    {
     "name": "stdout",
     "output_type": "stream",
     "text": [
      "Calculated Mean squared Error-- cosine Similarity -- Restaurants -- 16.09945582128025\n"
     ]
    }
   ],
   "source": [
    "simi_toronto_rests = np.array(get_sim_between_restaurants(toronto_train_10))\n",
    "#simi_toronto_rests = np.array(simi_toronto_rests)\n",
    "preds_cosine_toronto_rests = predict_topk_nobias(np.array(toronto_train_10.todense()),simi_toronto_rests, kind='res', k=1)\n",
    "cosine_MSE_rests = mseCalculation(preds_cosine_toronto_rests, np.array(toronto_val_10.todense()))\n",
    "print(\"Calculated Mean squared Error-- cosine Similarity -- Restaurants --\",cosine_MSE_rests)"
   ]
  },
  {
   "cell_type": "code",
   "execution_count": 77,
   "metadata": {},
   "outputs": [
    {
     "name": "stdout",
     "output_type": "stream",
     "text": [
      "Calculated Mean squared Error-- cosine Similarity -- Users -- 16.09945582128025\n"
     ]
    }
   ],
   "source": [
    "simi_toronto_users = np.array(get_sim_between_users(toronto_train_10, between='users'))\n",
    "#simi_toronto_users = np.array(simi_toronto_users)\n",
    "preds_cosine_toronto_users = predict_topk_nobias(np.array(toronto_train_10.todense()),simi_toronto_users, kind='user', k=1)\n",
    "cosine_MSE_users = mseCalculation(preds_cosine_toronto_users, np.array(toronto_val_10.todense()))\n",
    "print(\"Calculated Mean squared Error-- cosine Similarity -- Users --\",cosine_MSE_users)"
   ]
  },
  {
   "cell_type": "markdown",
   "metadata": {},
   "source": [
    "# TORONTO"
   ]
  },
  {
   "cell_type": "code",
   "execution_count": 78,
   "metadata": {},
   "outputs": [],
   "source": [
    "errs_cos_sim_toronto_val = {}\n",
    "errs_cos_sim_toronto_train = {}\n",
    "kvals = np.arange(1, 40)\n",
    "for num in kvals:\n",
    "    preds_cs_res_toronto = predict_topk_nobias(np.array(toronto_train_10.todense()), simi_toronto_rests, kind='res', k=num)\n",
    "    error_cs_val = mseCalculation(preds_cs_res_toronto, np.array(toronto_val_10.todense()))\n",
    "    error_cs_train = mseCalculation(preds_cs_res_toronto, np.array(toronto_train_10.todense()))\n",
    "    errs_cos_sim_toronto_val[num] = error_cs_val\n",
    "    errs_cos_sim_toronto_train[num] = error_cs_train"
   ]
  },
  {
   "cell_type": "code",
   "execution_count": 79,
   "metadata": {},
   "outputs": [
    {
     "data": {
      "text/plain": [
       "<matplotlib.legend.Legend at 0x118f83f98>"
      ]
     },
     "execution_count": 79,
     "metadata": {},
     "output_type": "execute_result"
    },
    {
     "data": {
      "image/png": "[encoded data removed]",
      "text/plain": [
       "<Figure size 432x288 with 1 Axes>"
      ]
     },
     "metadata": {
      "needs_background": "light"
     },
     "output_type": "display_data"
    }
   ],
   "source": [
    "\n",
    "plt.plot(list(errs_cos_sim_toronto_val.keys()),list(errs_cos_sim_toronto_val.values()), label = 'Validation')\n",
    "plt.plot(list(errs_cos_sim_toronto_train.keys()),list(errs_cos_sim_toronto_train.values()), label = 'Train')\n",
    "plt.xlabel('K Neighboring Values')\n",
    "plt.ylabel('Mean Squared Error')\n",
    "plt.title('Cosine Similarity -- MSE with (val/train) vs K neighbours')\n",
    "plt.legend()"
   ]
  },
  {
   "cell_type": "code",
   "execution_count": 80,
   "metadata": {},
   "outputs": [
    {
     "name": "stdout",
     "output_type": "stream",
     "text": [
      "Best MSE-- Cosine Similarity -- Restaurants in Toronto--  15.56119431093804\n"
     ]
    }
   ],
   "source": [
    "preds_cos_toronto = predict_topk_nobias(np.array(toronto_train_10.todense()), simi_toronto_rests, kind='res', k=40)\n",
    "good_MSE_cos_toronto = mseCalculation(preds_cos_toronto, np.array(toronto_val_10.todense()))\n",
    "print('Best MSE-- Cosine Similarity -- Restaurants in Toronto-- ', good_MSE_cos_toronto)"
   ]
  },
  {
   "cell_type": "code",
   "execution_count": 81,
   "metadata": {},
   "outputs": [],
   "source": [
    "train_preds_cos_toronto = preds_cos_toronto[train_toronto_nnz]\n",
    "val_preds_cos_toronto = preds_cos_toronto[val_toronto_nnz]\n",
    "test_preds_cos_toronto = preds_cos_toronto[test_toronto_nnz]"
   ]
  },
  {
   "cell_type": "markdown",
   "metadata": {},
   "source": [
    "# Vegas"
   ]
  },
  {
   "cell_type": "code",
   "execution_count": 82,
   "metadata": {},
   "outputs": [],
   "source": [
    "simi_vegas_res = get_sim_between_users(vegas_train_10, between='res')\n",
    "simi_vegas_res = np.array(simi_vegas_res)"
   ]
  },
  {
   "cell_type": "code",
   "execution_count": 83,
   "metadata": {},
   "outputs": [],
   "source": [
    "errs_cos_sim_vegas_val = {}\n",
    "errs_cos_sim_vegas_train = {}\n",
    "kvals = np.arange(1, 40)\n",
    "for num in kvals:\n",
    "    preds_cs_res_vegas = predict_topk_nobias(np.array(vegas_train_10.todense()), simi_vegas_res, kind='res', k=num)\n",
    "    error_cs_val = mseCalculation(preds_cs_res_vegas, np.array(vegas_val_10.todense()))\n",
    "    error_cs_train = mseCalculation(preds_cs_res_vegas, np.array(vegas_train_10.todense()))\n",
    "    errs_cos_sim_vegas_val[num] = error_cs_val\n",
    "    errs_cos_sim_vegas_train[num] = error_cs_train\n"
   ]
  },
  {
   "cell_type": "code",
   "execution_count": 84,
   "metadata": {},
   "outputs": [
    {
     "data": {
      "text/plain": [
       "<matplotlib.legend.Legend at 0x118fe8f28>"
      ]
     },
     "execution_count": 84,
     "metadata": {},
     "output_type": "execute_result"
    },
    {
     "data": {
      "image/png": "[encoded data removed]",
      "text/plain": [
       "<Figure size 432x288 with 1 Axes>"
      ]
     },
     "metadata": {
      "needs_background": "light"
     },
     "output_type": "display_data"
    }
   ],
   "source": [
    "plt.plot(list(errs_cos_sim_vegas_val.keys()),list(errs_cos_sim_vegas_val.values()), label = 'Validation')\n",
    "plt.plot(list(errs_cos_sim_vegas_train.keys()),list(errs_cos_sim_vegas_train.values()), label = 'Train')\n",
    "plt.xlabel('K Neighboring Values')\n",
    "plt.ylabel('Mean Squared Error')\n",
    "plt.title('Cosine Similarity -- MSE with (val/train) vs K neighbours')\n",
    "plt.legend()"
   ]
  },
  {
   "cell_type": "code",
   "execution_count": 85,
   "metadata": {},
   "outputs": [
    {
     "name": "stdout",
     "output_type": "stream",
     "text": [
      "Best MSE-- Cosine Similarity -- Restaurants in Vegas--  18.160739361403703\n"
     ]
    }
   ],
   "source": [
    "preds_cos_vegas = predict_topk_nobias(np.array(vegas_train_10.todense()),simi_vegas_res, kind='res', k=40)\n",
    "good_MSE_cos_vegas = mseCalculation(preds_cos_vegas, np.array(vegas_val_10.todense()))\n",
    "print('Best MSE-- Cosine Similarity -- Restaurants in Vegas-- ', good_MSE_cos_vegas)"
   ]
  },
  {
   "cell_type": "code",
   "execution_count": 86,
   "metadata": {},
   "outputs": [],
   "source": [
    "train_preds_cos_vegas = preds_cos_vegas[train_lv_nnz]\n",
    "val_preds_cos_vegas = preds_cos_vegas[val_lv_nnz]\n",
    "test_preds_cos_vegas = preds_cos_vegas[test_lv_nnz]\n"
   ]
  },
  {
   "cell_type": "markdown",
   "metadata": {},
   "source": [
    "# ALS"
   ]
  },
  {
   "cell_type": "code",
   "execution_count": 87,
   "metadata": {},
   "outputs": [],
   "source": [
    "def als(matrix, k =40, u=0, r=0, iters=10):\n",
    "    matrix = matrix.T\n",
    "    user = np.random.rand(matrix.shape[1],k).T\n",
    "    rating = np.random.rand(matrix.shape[0],k).T\n",
    "    for i in range(iters):\n",
    "        for each_user in range(matrix.shape[1]):\n",
    "            user[:,each_user] = np.linalg.solve(np.dot(rating,rating.T) + u * np.eye(rating.shape[0]), np.dot(rating,matrix[:,each_user]))\n",
    "        for each_rating in range(matrix.shape[0]):\n",
    "            rating[:,each_rating] = np.linalg.solve(np.dot(user,user.T) + r * np.eye(user.shape[0]), np.dot(user,matrix[each_rating,:].T))\n",
    "        pred = np.dot(rating.T, user)\n",
    "    return np.dot(rating.T, user).T"
   ]
  },
  {
   "cell_type": "code",
   "execution_count": 88,
   "metadata": {},
   "outputs": [],
   "source": [
    "from sklearn.metrics import mean_squared_error\n",
    "def mseCalculation(pred, actual):\n",
    "    pred = pred[actual.nonzero()].flatten()\n",
    "    actual = actual[actual.nonzero()].flatten()\n",
    "    return mean_squared_error(pred, actual)"
   ]
  },
  {
   "cell_type": "markdown",
   "metadata": {},
   "source": [
    "# For Restuarants in Las Vegas"
   ]
  },
  {
   "cell_type": "code",
   "execution_count": 89,
   "metadata": {},
   "outputs": [
    {
     "data": {
      "text/plain": [
       "<matplotlib.legend.Legend at 0x119065828>"
      ]
     },
     "execution_count": 89,
     "metadata": {},
     "output_type": "execute_result"
    },
    {
     "data": {
      "image/png": "[encoded data removed]",
      "text/plain": [
       "<Figure size 576x360 with 1 Axes>"
      ]
     },
     "metadata": {
      "needs_background": "light"
     },
     "output_type": "display_data"
    }
   ],
   "source": [
    "lines = np.linspace(1,20,5,dtype=int)\n",
    "als_errors_test = []\n",
    "als_errors_train = []\n",
    "for i in lines:\n",
    "    als_pred = als(np.array(vegas_train_10.todense()), k=i, iters = 5)\n",
    "    err_test = mseCalculation(als_pred, np.array(vegas_val_10.todense()))\n",
    "    err_train = mseCalculation(als_pred, np.array(vegas_train_10.todense()))\n",
    "    als_errors_test.append(err_test)\n",
    "    als_errors_train.append(err_train)\n",
    "    \n"
   ]
  },
  {
   "cell_type": "code",
   "execution_count": 90,
   "metadata": {},
   "outputs": [
    {
     "data": {
      "text/plain": [
       "<matplotlib.legend.Legend at 0x1190c88d0>"
      ]
     },
     "execution_count": 90,
     "metadata": {},
     "output_type": "execute_result"
    },
    {
     "data": {
      "image/png": "[encoded data removed]",
      "text/plain": [
       "<Figure size 576x360 with 1 Axes>"
      ]
     },
     "metadata": {
      "needs_background": "light"
     },
     "output_type": "display_data"
    }
   ],
   "source": [
    "fig = plt.figure(figsize=(8,5))\n",
    "plt.plot(lines,als_errors_test,'b-',label = 'validation')\n",
    "plt.plot(lines,als_errors_train,'r-', label = 'training')\n",
    "plt.title('Mean Square Erro vs Features')\n",
    "plt.xlabel('Feature count in a feature vector')\n",
    "plt.ylabel('MSE')\n",
    "plt.legend()"
   ]
  },
  {
   "cell_type": "code",
   "execution_count": 93,
   "metadata": {},
   "outputs": [
    {
     "data": {
      "text/plain": [
       "Text(0, 0.5, 'MSE')"
      ]
     },
     "execution_count": 93,
     "metadata": {},
     "output_type": "execute_result"
    },
    {
     "data": {
      "image/png": "[encoded data removed]",
      "text/plain": [
       "<Figure size 576x360 with 1 Axes>"
      ]
     },
     "metadata": {
      "needs_background": "light"
     },
     "output_type": "display_data"
    }
   ],
   "source": [
    "reg_user = np.logspace(-4, 3, 7)\n",
    "als_errors_val = {}\n",
    "fig = plt.figure(figsize=(8,5))\n",
    "for i in reg_user:\n",
    "    als_errors_val[i] = []\n",
    "    als_prediction = als(np.array(vegas_train_10.todense()), k=10, iters = 5, u=i, r=i)\n",
    "    error_val = mseCalculation(als_prediction, np.array(vegas_val_10.todense()))\n",
    "    als_errors_val[i].append(error_val)\n",
    "plt.plot(list(np.log10(reg_user)), list(als_errors_val.values()))\n",
    "\n",
    "plt.title('MSE vs Regularization')\n",
    "plt.xlabel('Regularization (log Scale) (User Reg =  Res Reg)')\n",
    "plt.ylabel('MSE')"
   ]
  },
  {
   "cell_type": "code",
   "execution_count": 94,
   "metadata": {},
   "outputs": [
    {
     "name": "stdout",
     "output_type": "stream",
     "text": [
      "ALS MSE for Restaurants in Lav Vegas =  18.101752628724274\n"
     ]
    }
   ],
   "source": [
    "lv_als_prediction = als(np.array(vegas_train_10.todense()),k=10, iters = 5, u=0.001 , r=0.001)\n",
    "val_MSE_als_lv = mseCalculation(lv_als_prediction, np.array(vegas_val_10.todense()))\n",
    "print('ALS MSE for Restaurants in Lav Vegas = ', val_MSE_als_lv)"
   ]
  },
  {
   "cell_type": "code",
   "execution_count": 95,
   "metadata": {},
   "outputs": [],
   "source": [
    "als_lv_train_pred = lv_als_prediction[train_lv_nnz]\n",
    "als_lv_val_pred = lv_als_prediction[val_lv_nnz]\n",
    "als_lv_test_pred = lv_als_prediction[test_lv_nnz]\n"
   ]
  },
  {
   "cell_type": "markdown",
   "metadata": {},
   "source": [
    "# For Restaurant's in Toronto"
   ]
  },
  {
   "cell_type": "code",
   "execution_count": 96,
   "metadata": {},
   "outputs": [
    {
     "data": {
      "text/plain": [
       "<matplotlib.legend.Legend at 0x1191dee80>"
      ]
     },
     "execution_count": 96,
     "metadata": {},
     "output_type": "execute_result"
    },
    {
     "data": {
      "image/png": "[encoded data removed]",
      "text/plain": [
       "<Figure size 576x360 with 1 Axes>"
      ]
     },
     "metadata": {
      "needs_background": "light"
     },
     "output_type": "display_data"
    }
   ],
   "source": [
    "trt_lines = np.linspace(1,20,5,dtype=int)\n",
    "als_errors_trt_test = []\n",
    "als_errors_trt_train = []\n",
    "for i in trt_lines:\n",
    "    als_preds_trt = als(np.array(toronto_train_10.todense()), k=i, iters = 5)\n",
    "    test_err_trt = mseCalculation(als_preds_trt, np.array(toronto_val_10.todense()))\n",
    "    train_err_trt = mseCalculation(als_preds_trt, np.array(toronto_train_10.todense()))\n",
    "    als_errors_trt_test.append(test_err_trt)\n",
    "    als_errors_trt_train.append(train_err_trt)\n",
    "    \n",
    "fig = plt.figure(figsize=(8,5))\n",
    "plt.plot(trt_lines,als_errors_trt_test,'b-',label = 'validation')\n",
    "plt.plot(trt_lines,als_errors_trt_train,'r-', label = 'training')\n",
    "plt.title('MSE vs num_features (for ALS)')\n",
    "plt.xlabel('Feature count in a feature vector')\n",
    "plt.ylabel('MSE')\n",
    "plt.legend()"
   ]
  },
  {
   "cell_type": "code",
   "execution_count": 97,
   "metadata": {},
   "outputs": [
    {
     "data": {
      "text/plain": [
       "<Figure size 576x360 with 0 Axes>"
      ]
     },
     "metadata": {},
     "output_type": "display_data"
    }
   ],
   "source": [
    "reg_user_trt= np.logspace(-4,3,7)\n",
    "als_errors_val_trt = {}\n",
    "# train_error_als = {}\n",
    "fig = plt.figure(figsize=(8,5))\n",
    "for i in reg_user_trt:\n",
    "    als_errors_val_trt[i] = []\n",
    "    als_pred_val_trt = als(np.array(toronto_train_10.todense()),k=10, iters = 5, u=i, r=i)\n",
    "    als_err_val_trt = mseCalculation(als_pred_val_trt, np.array(toronto_val_10.todense()))\n",
    "    als_errors_val_trt[i].append(als_err_val_trt)\n"
   ]
  },
  {
   "cell_type": "code",
   "execution_count": 98,
   "metadata": {},
   "outputs": [
    {
     "data": {
      "text/plain": [
       "Text(0, 0.5, 'MSE')"
      ]
     },
     "execution_count": 98,
     "metadata": {},
     "output_type": "execute_result"
    },
    {
     "data": {
      "image/png": "[encoded data removed]",
      "text/plain": [
       "<Figure size 432x288 with 1 Axes>"
      ]
     },
     "metadata": {
      "needs_background": "light"
     },
     "output_type": "display_data"
    }
   ],
   "source": [
    "plt.plot(list(np.log10(reg_user_trt)), list(als_errors_val_trt.values()))\n",
    "\n",
    "plt.title('MSE vs Regularization')\n",
    "plt.xlabel('Regularization (log Scale) (User Reg =  Res Reg)')\n",
    "plt.ylabel('MSE')"
   ]
  },
  {
   "cell_type": "code",
   "execution_count": 99,
   "metadata": {},
   "outputs": [
    {
     "name": "stdout",
     "output_type": "stream",
     "text": [
      "Best Validation MSE for ALS for Restaurants in Toronto=  15.471021798545168\n"
     ]
    }
   ],
   "source": [
    "als_prediction_toranto = als(np.array(toronto_train_10.todense()),k=10, iters = 5, u=0.01, r=0.01)\n",
    "val_MSE_als_trt = mseCalculation(als_prediction_toranto, np.array(toronto_val_10.todense()))\n",
    "print('Best Validation MSE for ALS for Restaurants in Toronto= ', val_MSE_als_trt)"
   ]
  },
  {
   "cell_type": "code",
   "execution_count": 100,
   "metadata": {},
   "outputs": [],
   "source": [
    "als_trt_train_pred = als_prediction_toranto[train_toronto_nnz]\n",
    "als_trt_val_pred = als_prediction_toranto[val_toronto_nnz]\n",
    "als_trt_test_pred = als_prediction_toranto[test_toronto_nnz]"
   ]
  },
  {
   "cell_type": "markdown",
   "metadata": {},
   "source": [
    "# Ensembling Predictors (SVD, Cosine, ALS)"
   ]
  },
  {
   "cell_type": "code",
   "execution_count": 101,
   "metadata": {},
   "outputs": [
    {
     "data": {
      "text/plain": [
       "(350133,)"
      ]
     },
     "execution_count": 101,
     "metadata": {},
     "output_type": "execute_result"
    }
   ],
   "source": [
    "train_preds_svd_lv.shape\n",
    "\n"
   ]
  },
  {
   "cell_type": "code",
   "execution_count": 102,
   "metadata": {},
   "outputs": [],
   "source": [
    "def ensemble(svd, cosine,als):\n",
    "    df =pd.DataFrame(svd)\n",
    "    df.columns = ['SVD']\n",
    "    df['Cosine'] = cosine\n",
    "    df['ALS'] = als\n",
    "    return df"
   ]
  },
  {
   "cell_type": "code",
   "execution_count": 103,
   "metadata": {},
   "outputs": [],
   "source": [
    "ensemble_LV_training = ensemble(train_preds_svd_lv,train_preds_cos_vegas, als_lv_train_pred)\n",
    "ensemble_LV_validation = ensemble(val_preds_svd_lv,val_preds_cos_vegas, als_lv_val_pred)\n",
    "ensemble_LV_testing = ensemble(test_preds_svd_lv,test_preds_cos_vegas, als_lv_test_pred)\n",
    "\n"
   ]
  },
  {
   "cell_type": "code",
   "execution_count": 104,
   "metadata": {},
   "outputs": [],
   "source": [
    "y_train_LV = np.ravel(np.array(vegas_train_10[train_lv_nnz]))\n",
    "y_val_LV = np.ravel(np.array(vegas_val_10[val_lv_nnz]))\n",
    "y_test_LV = np.ravel(np.array(vegas_test_10[test_lv_nnz]))\n",
    "\n"
   ]
  },
  {
   "cell_type": "code",
   "execution_count": 105,
   "metadata": {},
   "outputs": [],
   "source": [
    "ensemble_TRT_training = ensemble(train_preds_svd_toronto,train_preds_cos_toronto, als_trt_train_pred)\n",
    "ensemble_TRT_validation = ensemble(val_preds_svd_toronto,val_preds_cos_toronto, als_trt_val_pred)\n",
    "ensemble_TRT_testing = ensemble(test_preds_svd_toronto,test_preds_cos_toronto, als_trt_test_pred)\n"
   ]
  },
  {
   "cell_type": "code",
   "execution_count": 106,
   "metadata": {},
   "outputs": [],
   "source": [
    "y_train_trt = np.ravel(np.array(toronto_train_10[train_toronto_nnz]))\n",
    "y_val_trt = np.ravel(np.array(toronto_val_10[val_toronto_nnz]))\n",
    "y_test_trt = np.ravel(np.array(toronto_test_10[test_toronto_nnz]))"
   ]
  },
  {
   "cell_type": "markdown",
   "metadata": {},
   "source": [
    "# For Restaurant's in Vegas"
   ]
  },
  {
   "cell_type": "code",
   "execution_count": 107,
   "metadata": {},
   "outputs": [],
   "source": [
    "from sklearn.linear_model import LinearRegression"
   ]
  },
  {
   "cell_type": "code",
   "execution_count": 108,
   "metadata": {},
   "outputs": [
    {
     "name": "stdout",
     "output_type": "stream",
     "text": [
      "MSE of Ensemble for Las Vegas Restaurants =  4.766699582650488\n"
     ]
    }
   ],
   "source": [
    "LV_LinReg = LinearRegression(fit_intercept=True)\n",
    "LV_LinReg.fit(ensemble_LV_training.iloc[:,-3:], y_train_LV)\n",
    "ensemble_LV_prediction = LV_LinReg.predict(ensemble_LV_validation.iloc[:,-3:])\n",
    "MSE_LV_ensemble = mseCalculation(ensemble_LV_prediction,y_val_LV)\n",
    "print('MSE of Ensemble for Las Vegas Restaurants = ', MSE_LV_ensemble)"
   ]
  },
  {
   "cell_type": "code",
   "execution_count": 109,
   "metadata": {},
   "outputs": [
    {
     "name": "stdout",
     "output_type": "stream",
     "text": [
      "MSE of Ensemble for Las Vegas Restaurants Ridge =  4.580174400719515\n"
     ]
    }
   ],
   "source": [
    "from sklearn.linear_model import Ridge\n",
    "LV_LinRegRidge = Ridge(alpha = 10000)\n",
    "LV_LinRegRidge.fit(ensemble_LV_training.iloc[:,-3:], y_train_LV)\n",
    "ensemble_LV_prediction_ridge = LV_LinRegRidge.predict(ensemble_LV_validation.iloc[:,-3:])\n",
    "MSE_LV_ensemble_ridge = mseCalculation(ensemble_LV_prediction_ridge,y_val_LV)\n",
    "print('MSE of Ensemble for Las Vegas Restaurants Ridge = ', MSE_LV_ensemble_ridge)"
   ]
  },
  {
   "cell_type": "markdown",
   "metadata": {},
   "source": [
    "# For Restaurant's in Toronto"
   ]
  },
  {
   "cell_type": "code",
   "execution_count": 110,
   "metadata": {},
   "outputs": [
    {
     "name": "stdout",
     "output_type": "stream",
     "text": [
      "MSE of Ensemble for Toronto Restaurants =   2.5756192820980037\n"
     ]
    }
   ],
   "source": [
    "TRT_LinReg = LinearRegression(fit_intercept=True)\n",
    "TRT_LinReg.fit(ensemble_TRT_training.iloc[:,-3:], y_train_trt)\n",
    "ensemble_TRT_prediction = TRT_LinReg.predict(ensemble_TRT_validation.iloc[:,-3:])\n",
    "MSE_TRT_ensemble = mseCalculation(ensemble_TRT_prediction,y_val_trt)\n",
    "print('MSE of Ensemble for Toronto Restaurants =  ', MSE_TRT_ensemble)"
   ]
  },
  {
   "cell_type": "code",
   "execution_count": 111,
   "metadata": {},
   "outputs": [
    {
     "name": "stdout",
     "output_type": "stream",
     "text": [
      "MSE of Ensemble for Las Vegas Restaurants Ridge =  2.4779262606142964\n"
     ]
    }
   ],
   "source": [
    "from sklearn.linear_model import Ridge\n",
    "TRT_LinRegRidge = Ridge(alpha = 10000)\n",
    "TRT_LinRegRidge.fit(ensemble_TRT_training.iloc[:,-3:], y_train_trt)\n",
    "ensemble_TRT_prediction_ridge = TRT_LinRegRidge.predict(ensemble_TRT_validation.iloc[:,-3:])\n",
    "MSE_TRT_ensemble_ridge = mseCalculation(ensemble_TRT_prediction_ridge,y_val_trt)\n",
    "print('MSE of Ensemble for Las Vegas Restaurants Ridge = ', MSE_TRT_ensemble_ridge)"
   ]
  },
  {
   "cell_type": "markdown",
   "metadata": {},
   "source": [
    "# Accuracy "
   ]
  },
  {
   "cell_type": "code",
   "execution_count": 112,
   "metadata": {},
   "outputs": [
    {
     "ename": "SyntaxError",
     "evalue": "unexpected EOF while parsing (<ipython-input-112-07587b180a9a>, line 3)",
     "output_type": "error",
     "traceback": [
      "\u001b[0;36m  File \u001b[0;32m\"<ipython-input-112-07587b180a9a>\"\u001b[0;36m, line \u001b[0;32m3\u001b[0m\n\u001b[0;31m    print('MSE of Ensemble for Las Vegas Restaurants (test) = ', MSE_LV_test\u001b[0m\n\u001b[0m                                                                            ^\u001b[0m\n\u001b[0;31mSyntaxError\u001b[0m\u001b[0;31m:\u001b[0m unexpected EOF while parsing\n"
     ]
    }
   ],
   "source": [
    "ensemble_LV_test_prediction = LV_LinRegRidge.predict(ensemble_LV_training.iloc[:,-3:])\n",
    "MSE_LV_test = mseCalculation(ensemble_LV_test_prediction,y_test_LV)\n",
    "print('MSE of Ensemble for Las Vegas Restaurants (test) = ', MSE_LV_test"
   ]
  },
  {
   "cell_type": "code",
   "execution_count": 113,
   "metadata": {},
   "outputs": [
    {
     "name": "stdout",
     "output_type": "stream",
     "text": [
      "MSE of Ensemble for Toronto Restaurants (test) =  2.4164248735128817\n"
     ]
    }
   ],
   "source": [
    "ensemble_TRT_test_prediction = TRT_LinRegRidge.predict(ensemble_TRT_training.iloc[:,-3:])\n",
    "MSE_TRT_test = mseCalculation(ensemble_TRT_test_prediction,y_test_trt)\n",
    "print('MSE of Ensemble for Toronto Restaurants (test) = ', MSE_TRT_test)"
   ]
  }
 ],
 "metadata": {
  "kernelspec": {
   "display_name": "Python 3",
   "language": "python",
   "name": "python3"
  },
  "language_info": {
   "codemirror_mode": {
    "name": "ipython",
    "version": 3
   },
   "file_extension": ".py",
   "mimetype": "text/x-python",
   "name": "python",
   "nbconvert_exporter": "python",
   "pygments_lexer": "ipython3",
   "version": "3.7.3"
  }
 },
 "nbformat": 4,
 "nbformat_minor": 2
}
